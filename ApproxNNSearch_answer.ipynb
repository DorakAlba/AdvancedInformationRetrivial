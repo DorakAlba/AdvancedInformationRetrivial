{
  "nbformat": 4,
  "nbformat_minor": 0,
  "metadata": {
    "kernelspec": {
      "display_name": "Python 3",
      "language": "python",
      "name": "python3"
    },
    "language_info": {
      "codemirror_mode": {
        "name": "ipython",
        "version": 3
      },
      "file_extension": ".py",
      "mimetype": "text/x-python",
      "name": "python",
      "nbconvert_exporter": "python",
      "pygments_lexer": "ipython3",
      "version": "3.6.3"
    },
    "colab": {
      "name": "ApproxNNSearch_template.ipynb",
      "provenance": []
    }
  },
  "cells": [
    {
      "cell_type": "markdown",
      "metadata": {
        "id": "6vsvgiXHPz_J",
        "colab_type": "text"
      },
      "source": [
        "# Approximate Nearest Neighbours Search\n",
        "\n",
        "Sometimes, when we are processing a user query, it may be **acceptable to retrieve a \"good guess\"** of \n",
        "nearest neighbours to the query **instead of true nearest neighbours**. In those cases, one can use an algorithm which doesn't guarantee to return the actual nearest neighbour in every case, **in return for improved speed or memory savings**. Thus, with the help of such algorithms one can do a **fast approximate search in a very large dataset**. Today we will expore one of such approaches based on graphs.\n",
        "\n",
        "This is what we are going to do in this lab: \n",
        "\n",
        "1. Complete implementation of small-world graph;\n",
        "2. Implement search in this graph;\n",
        "3. Build a *navigable* small-world graph;\n",
        "4. Compare search quality in the resulting graphs.\n",
        "\n",
        "\n",
        "## 1. Dataset preparation\n",
        "We will utilize the same dataset which was used in the last lab - the [dataset with curious facts](https://github.com/hsu-ai-course/hsu.ai/blob/master/code/datasets/nlp/facts.txt). Using trained `doc2vec` [model](https://github.com/jhlau/doc2vec) (Associated Press News DBOW (0.6GB), we will infer vectors for every fact and normalize them.\n",
        "\n",
        "\n",
        "### 1.1 Loading doc2vec model"
      ]
    },
    {
      "cell_type": "code",
      "metadata": {
        "id": "2uqwQn4VVDKe",
        "colab_type": "code",
        "outputId": "0a227d2f-17a6-4e0b-cca2-1db6c3752b38",
        "colab": {
          "base_uri": "https://localhost:8080/",
          "height": 507
        }
      },
      "source": [
        "!pip install gensim\n",
        "!wget https://public.boxcloud.com/d/1/b1!d5q3hz-n1_jkOcrgoeBV8-5_4U4IgAOfPgCfSASzlzUTH7D4W5znMtd0NfiO8ORZRcY50xfC5XKtOZ002MsRcBDrb28D_KLRI3p-OV12Wi0lr7UfQqDElXqIt_4pSLfU6LSZcAN1xnYq2k1DtIVNqGQ6z5tYvcsYVr-yS4mxrREyJfFLNYd3JShiSA5WL7rpd_80FR0ZoyLZhW95yOF80aVniiXaPv5_aj557hf0g-aPA-S1iQpdTO_fGsZihKVBqK3fbi0F-u9iUr6JWN8MU25gONXOsl1BiZiU1dvAWXo-caqeXkNWtB4Cz4NJGb7aUjFuGUq4PaW9JRTRjKbbRUJNB_alhnMnRIJeiLv8p9-bPRbpg0dciy4LVxYc2zqKCPQ9w5AnvUgqM8Tm0fKRRH-pvyJYKK_cGAZ56xnR2CK8V9boLT9LnSq1ykTbnzSPJfZbN5sMX0_MBmXHxadUfrH-VZefNKym--qW8VCk9nVIdxYhkfpOaL4Q8I4__Il5wT7jVuvIWf_7PkmCEdNoZwCoxPtJji_A18DXoiJdbKX5sBJHkF0sukWW0mMLSrdjf2ZDXXwwZHOaJskvfBTTK_uPUQZ-cBIUeZ8UXt6AlTZfhM_dli2uxDmKiJIxVqfAZHXhIwFcW9GtPysscp-CDxiJ-fERcpOTdaA2Mo9bkB90PQgyOq1ZLqqCQ7jwJLXI6ooWxb0tWRpgd8SpXDr72k3dT32eJJYiWrkWeNiZd1LcFH2EY76mMMPqaNv2J4Q0O9aWjCnzmgjXySnOJZde1Glt8iTdHALakS77o8P3tR-KiAijy7yec6K6nu9Lv3X5z1Npq3dkY2W6BlFCSB0i7S7VdIBMD6qBaD6ir_-pwFJTKCDRYHZSD2GVsl7kBIu5DdCiZf-drDGzEhMLNZ93xtby-1fQxIJnHpfmNlKCA9bzI5UYL5Pf5hm-nCaESKijcbiD2qPbdHqsFm3XpbfEJmCTpMwYMF0LEAy2FfgxHnOVzO9D1NluiacdcIXKDsnvOINPjtEhePKEaCFNfZp2ovmJtTxhnX6ynKDomW5MCqBi0QTbV_s_lm-uV9r-WiS3QT3nUEQzf25t3xgU5yNxU79nPJqXusXIifTnTpSfjcoNg62XDDu16VKmw34lHHHiWmjJrfupgpqCMw1XY9U2HSWPPmP7U8lCL7h43SMX6CJpOa4BM2yV7SNzAsNpOgRkwtOfsq90qddE6RWJpw9YQjGNzBKOctFuttTdEJIJNd_rclRJ4kqwAvE0G47AFHFNV2xyWeGtxV49pLqqM_Uk7NvzVefhizRbXTJhyzo1WTlJxgL2Ebbj2LACdctL2KQ./download"
      ],
      "execution_count": 2,
      "outputs": [
        {
          "output_type": "stream",
          "text": [
            "Requirement already satisfied: gensim in /usr/local/lib/python3.6/dist-packages (3.6.0)\n",
            "Requirement already satisfied: six>=1.5.0 in /usr/local/lib/python3.6/dist-packages (from gensim) (1.12.0)\n",
            "Requirement already satisfied: smart-open>=1.2.1 in /usr/local/lib/python3.6/dist-packages (from gensim) (1.9.0)\n",
            "Requirement already satisfied: scipy>=0.18.1 in /usr/local/lib/python3.6/dist-packages (from gensim) (1.4.1)\n",
            "Requirement already satisfied: numpy>=1.11.3 in /usr/local/lib/python3.6/dist-packages (from gensim) (1.17.5)\n",
            "Requirement already satisfied: requests in /usr/local/lib/python3.6/dist-packages (from smart-open>=1.2.1->gensim) (2.21.0)\n",
            "Requirement already satisfied: boto3 in /usr/local/lib/python3.6/dist-packages (from smart-open>=1.2.1->gensim) (1.11.15)\n",
            "Requirement already satisfied: boto>=2.32 in /usr/local/lib/python3.6/dist-packages (from smart-open>=1.2.1->gensim) (2.49.0)\n",
            "Requirement already satisfied: idna<2.9,>=2.5 in /usr/local/lib/python3.6/dist-packages (from requests->smart-open>=1.2.1->gensim) (2.8)\n",
            "Requirement already satisfied: urllib3<1.25,>=1.21.1 in /usr/local/lib/python3.6/dist-packages (from requests->smart-open>=1.2.1->gensim) (1.24.3)\n",
            "Requirement already satisfied: certifi>=2017.4.17 in /usr/local/lib/python3.6/dist-packages (from requests->smart-open>=1.2.1->gensim) (2019.11.28)\n",
            "Requirement already satisfied: chardet<3.1.0,>=3.0.2 in /usr/local/lib/python3.6/dist-packages (from requests->smart-open>=1.2.1->gensim) (3.0.4)\n",
            "Requirement already satisfied: s3transfer<0.4.0,>=0.3.0 in /usr/local/lib/python3.6/dist-packages (from boto3->smart-open>=1.2.1->gensim) (0.3.3)\n",
            "Requirement already satisfied: jmespath<1.0.0,>=0.7.1 in /usr/local/lib/python3.6/dist-packages (from boto3->smart-open>=1.2.1->gensim) (0.9.4)\n",
            "Requirement already satisfied: botocore<1.15.0,>=1.14.15 in /usr/local/lib/python3.6/dist-packages (from boto3->smart-open>=1.2.1->gensim) (1.14.15)\n",
            "Requirement already satisfied: python-dateutil<3.0.0,>=2.1 in /usr/local/lib/python3.6/dist-packages (from botocore<1.15.0,>=1.14.15->boto3->smart-open>=1.2.1->gensim) (2.6.1)\n",
            "Requirement already satisfied: docutils<0.16,>=0.10 in /usr/local/lib/python3.6/dist-packages (from botocore<1.15.0,>=1.14.15->boto3->smart-open>=1.2.1->gensim) (0.15.2)\n",
            "--2020-02-23 18:12:21--  https://public.boxcloud.com/d/1/b1!d5q3hz-n1_jkOcrgoeBV8-5_4U4IgAOfPgCfSASzlzUTH7D4W5znMtd0NfiO8ORZRcY50xfC5XKtOZ002MsRcBDrb28D_KLRI3p-OV12Wi0lr7UfQqDElXqIt_4pSLfU6LSZcAN1xnYq2k1DtIVNqGQ6z5tYvcsYVr-yS4mxrREyJfFLNYd3JShiSA5WL7rpd_80FR0ZoyLZhW95yOF80aVniiXaPv5_aj557hf0g-aPA-S1iQpdTO_fGsZihKVBqK3fbi0F-u9iUr6JWN8MU25gONXOsl1BiZiU1dvAWXo-caqeXkNWtB4Cz4NJGb7aUjFuGUq4PaW9JRTRjKbbRUJNB_alhnMnRIJeiLv8p9-bPRbpg0dciy4LVxYc2zqKCPQ9w5AnvUgqM8Tm0fKRRH-pvyJYKK_cGAZ56xnR2CK8V9boLT9LnSq1ykTbnzSPJfZbN5sMX0_MBmXHxadUfrH-VZefNKym--qW8VCk9nVIdxYhkfpOaL4Q8I4__Il5wT7jVuvIWf_7PkmCEdNoZwCoxPtJji_A18DXoiJdbKX5sBJHkF0sukWW0mMLSrdjf2ZDXXwwZHOaJskvfBTTK_uPUQZ-cBIUeZ8UXt6AlTZfhM_dli2uxDmKiJIxVqfAZHXhIwFcW9GtPysscp-CDxiJ-fERcpOTdaA2Mo9bkB90PQgyOq1ZLqqCQ7jwJLXI6ooWxb0tWRpgd8SpXDr72k3dT32eJJYiWrkWeNiZd1LcFH2EY76mMMPqaNv2J4Q0O9aWjCnzmgjXySnOJZde1Glt8iTdHALakS77o8P3tR-KiAijy7yec6K6nu9Lv3X5z1Npq3dkY2W6BlFCSB0i7S7VdIBMD6qBaD6ir_-pwFJTKCDRYHZSD2GVsl7kBIu5DdCiZf-drDGzEhMLNZ93xtby-1fQxIJnHpfmNlKCA9bzI5UYL5Pf5hm-nCaESKijcbiD2qPbdHqsFm3XpbfEJmCTpMwYMF0LEAy2FfgxHnOVzO9D1NluiacdcIXKDsnvOINPjtEhePKEaCFNfZp2ovmJtTxhnX6ynKDomW5MCqBi0QTbV_s_lm-uV9r-WiS3QT3nUEQzf25t3xgU5yNxU79nPJqXusXIifTnTpSfjcoNg62XDDu16VKmw34lHHHiWmjJrfupgpqCMw1XY9U2HSWPPmP7U8lCL7h43SMX6CJpOa4BM2yV7SNzAsNpOgRkwtOfsq90qddE6RWJpw9YQjGNzBKOctFuttTdEJIJNd_rclRJ4kqwAvE0G47AFHFNV2xyWeGtxV49pLqqM_Uk7NvzVefhizRbXTJhyzo1WTlJxgL2Ebbj2LACdctL2KQ./download\n",
            "Resolving public.boxcloud.com (public.boxcloud.com)... 107.152.26.200\n",
            "Connecting to public.boxcloud.com (public.boxcloud.com)|107.152.26.200|:443... connected.\n",
            "HTTP request sent, awaiting response... 200 OK\n",
            "Length: 665844707 (635M) [application/octet-stream]\n",
            "Saving to: ‘download’\n",
            "\n",
            "download            100%[===================>] 635.00M  12.0KB/s    in 89s     \n",
            "\n",
            "2020-02-23 18:13:50 (7.14 MB/s) - ‘download’ saved [665844707/665844707]\n",
            "\n"
          ],
          "name": "stdout"
        }
      ]
    },
    {
      "cell_type": "code",
      "metadata": {
        "id": "zCjpx3pNPz_T",
        "colab_type": "code",
        "outputId": "74feaccf-0a83-41c3-bfe0-f06750d1166d",
        "colab": {
          "base_uri": "https://localhost:8080/",
          "height": 255
        }
      },
      "source": [
        "from gensim.models.doc2vec import Doc2Vec\n",
        "! tar -xvf download && mv apnews_dbow/*\n",
        "\n",
        "# unpack a model into 3 files and target the main one\n",
        "# doc2vec.bin  <---------- this\n",
        "# doc2vec.bin.syn0.npy\n",
        "# doc2vec.bin.sin1neg.npy\n",
        "\n",
        "\n",
        "\n",
        "\n",
        "\n",
        "model = Doc2Vec.load('apnews_dbow/doc2vec.bin', mmap=None)\n",
        "print(type(model))\n",
        "print(type(model.infer_vector([\"to\", \"be\", \"or\", \"not\"])))"
      ],
      "execution_count": 3,
      "outputs": [
        {
          "output_type": "stream",
          "text": [
            "apnews_dbow/\n",
            "apnews_dbow/doc2vec.bin.syn1neg.npy\n",
            "apnews_dbow/doc2vec.bin.syn0.npy\n",
            "apnews_dbow/doc2vec.bin\n",
            "mv: target 'apnews_dbow/doc2vec.bin.syn1neg.npy' is not a directory\n"
          ],
          "name": "stdout"
        },
        {
          "output_type": "stream",
          "text": [
            "/usr/local/lib/python3.6/dist-packages/smart_open/smart_open_lib.py:402: UserWarning: This function is deprecated, use smart_open.open instead. See the migration notes for details: https://github.com/RaRe-Technologies/smart_open/blob/master/README.rst#migrating-to-the-new-open-function\n",
            "  'See the migration notes for details: %s' % _MIGRATION_NOTES_URL\n"
          ],
          "name": "stderr"
        },
        {
          "output_type": "stream",
          "text": [
            "<class 'gensim.models.doc2vec.Doc2Vec'>\n",
            "<class 'numpy.ndarray'>\n"
          ],
          "name": "stdout"
        },
        {
          "output_type": "stream",
          "text": [
            "/usr/local/lib/python3.6/dist-packages/gensim/models/doc2vec.py:566: UserWarning: The parameter `iter` is deprecated, will be removed in 4.0.0, use `epochs` instead.\n",
            "  warnings.warn(\"The parameter `iter` is deprecated, will be removed in 4.0.0, use `epochs` instead.\")\n",
            "/usr/local/lib/python3.6/dist-packages/gensim/models/doc2vec.py:570: UserWarning: The parameter `size` is deprecated, will be removed in 4.0.0, use `vector_size` instead.\n",
            "  warnings.warn(\"The parameter `size` is deprecated, will be removed in 4.0.0, use `vector_size` instead.\")\n"
          ],
          "name": "stderr"
        }
      ]
    },
    {
      "cell_type": "markdown",
      "metadata": {
        "id": "UnpsK0eAPz_l",
        "colab_type": "text"
      },
      "source": [
        "### 1.2 Reading data"
      ]
    },
    {
      "cell_type": "code",
      "metadata": {
        "id": "E0Oihbi5Pz_o",
        "colab_type": "code",
        "colab": {}
      },
      "source": [
        "import urllib.request\n",
        "data_url = \"https://raw.githubusercontent.com/hsu-ai-course/hsu.ai/master/code/datasets/nlp/facts.txt\"\n",
        "file_name= \"facts.txt\"\n",
        "urllib.request.urlretrieve(data_url, file_name)\n",
        "\n",
        "\n",
        "\n",
        "facts = []\n",
        "with open(file_name,encoding= \"windows-1251\") as fp:\n",
        "    for cnt, line in enumerate(fp):\n",
        "        facts.append(line.strip('\\n'))"
      ],
      "execution_count": 0,
      "outputs": []
    },
    {
      "cell_type": "markdown",
      "metadata": {
        "id": "7vTFIneJPz_0",
        "colab_type": "text"
      },
      "source": [
        "### 1.3 Transforming sentences into vectors"
      ]
    },
    {
      "cell_type": "code",
      "metadata": {
        "id": "vo0SahNzPz_3",
        "colab_type": "code",
        "outputId": "d8600c4a-5cd8-4125-aa53-863df05aa9e9",
        "colab": {
          "base_uri": "https://localhost:8080/",
          "height": 50
        }
      },
      "source": [
        "import nltk\n",
        "nltk.download('punkt')\n",
        "import numpy as np\n",
        "\n",
        "def word_tokenize(sentence):\n",
        "    return nltk.word_tokenize(sentence.lower())\n",
        "\n",
        "def get_words_from_sentence(sentences):\n",
        "    for sentence in sentences: \n",
        "        yield word_tokenize(sentence.split('.', 1)[1])\n",
        "\n",
        "sent_vecs = np.array([])\n",
        "sent_vecs = np.array(list(model.infer_vector(words) for words in get_words_from_sentence(facts)))"
      ],
      "execution_count": 5,
      "outputs": [
        {
          "output_type": "stream",
          "text": [
            "[nltk_data] Downloading package punkt to /root/nltk_data...\n",
            "[nltk_data]   Unzipping tokenizers/punkt.zip.\n"
          ],
          "name": "stdout"
        }
      ]
    },
    {
      "cell_type": "markdown",
      "metadata": {
        "id": "sk7UbILPP0AC",
        "colab_type": "text"
      },
      "source": [
        "### 1.4 Normalizing vectors"
      ]
    },
    {
      "cell_type": "code",
      "metadata": {
        "id": "rY87bJ27P0AF",
        "colab_type": "code",
        "colab": {}
      },
      "source": [
        "def norm_vectors(A):\n",
        "    An = A.copy()\n",
        "    for i, row in enumerate(An):\n",
        "        An[i, :] /= np.linalg.norm(row)\n",
        "    return An\n",
        "\n",
        "def find_k_closest(query, dataset, k=5):    \n",
        "    index = list((i, v, np.dot(query, v)) for i, v in enumerate(dataset))    \n",
        "    return sorted(index, key=lambda pair: pair[2], reverse=True)[:k]\n",
        "\n",
        "sent_vecs_normed = norm_vectors(sent_vecs)"
      ],
      "execution_count": 0,
      "outputs": []
    },
    {
      "cell_type": "markdown",
      "metadata": {
        "id": "7Tyg0DEvP0AQ",
        "colab_type": "text"
      },
      "source": [
        "## 2. Small world network ##\n",
        "We discussed [small world networks](https://en.wikipedia.org/wiki/Small-world_network) in lecture. This beautiful concept utilizes skip-list idea to reach query neighbourhood fastly from any random graph node. You have practically all code written, you just need to complete `rewire()` function with respect to [Watts–Strogatz process](https://en.wikipedia.org/wiki/Watts%E2%80%93Strogatz_model).\n",
        "\n",
        "**Please write rewiring code.**\n",
        "\n",
        "Function `build_graph` accepts some iterable collection of `values`. In our case this will be embeddings. \n",
        "\n",
        "- `K` is a parameter of Watts–Strogatz model, expressing average degree of graph nodes.\n",
        "- `p` stands for probability of \"rewiring\"."
      ]
    },
    {
      "cell_type": "code",
      "metadata": {
        "id": "V9XieyXtP0AT",
        "colab_type": "code",
        "colab": {}
      },
      "source": [
        "import random\n",
        "class Node:\n",
        "    ''' Graph node class. Major properties are `value` to access embedding and `neighbourhood` for adjacent nodes '''\n",
        "    def __init__(self, value, idx):\n",
        "        self.value = value\n",
        "        self.idx = idx\n",
        "        self.neighbourhood = set()\n",
        "        \n",
        "\n",
        "def build_graph(values, K, p=0.4):\n",
        "    '''Accepts container with values. Returns list with graph nodes'''\n",
        "    \n",
        "    def rewire(nodes, i, j, k):\n",
        "        #TODO remove i-j connection and add i-k connection, bi-directional\n",
        "        nodes[i].neighbourhood.discard(j %N)\n",
        "        nodes[j %N].neighbourhood.discard(i)\n",
        "        nodes[i].neighbourhood.add(k)\n",
        "        nodes[k].neighbourhood.add(i)\n",
        "        return True\n",
        "    \n",
        "        \n",
        "    N = len(values)\n",
        "    nodes = [None] * N\n",
        "    \n",
        "    # create nodes\n",
        "    for i, val in enumerate(values):\n",
        "        nodes[i] = Node(val, i)\n",
        "    \n",
        "    # create K-regular lattice\n",
        "    for i, val in enumerate(nodes):\n",
        "        for j in range(i - K // 2, i + K // 2 + 1):\n",
        "            if i != j:\n",
        "                nodes[i].neighbourhood.add(j % N)\n",
        "                nodes[j % N].neighbourhood.add(i)\n",
        "        \n",
        "    for i, node in enumerate(nodes):\n",
        "      #TODO for each node rewire right hand side i-j edge to some other random node\n",
        "      # See Watts–Strogatz model for details\n",
        "      for ko in range (i+1,i + K // 2 + 1):\n",
        "        if random.random()<=p:\n",
        "          potential = None\n",
        "          while potential == None or potential in nodes[i].neighbourhood : \n",
        "            potential = random.randint(0,len(nodes)-1)\n",
        "          rewire(nodes,i,ko,potential)\n",
        "\n",
        "      pass\n",
        "                \n",
        "    return nodes"
      ],
      "execution_count": 0,
      "outputs": []
    },
    {
      "cell_type": "markdown",
      "metadata": {
        "id": "-C0ah5naP0Ab",
        "colab_type": "text"
      },
      "source": [
        "The bigger `K` and `p` you choose, the longer method runs. Bigger `K` leads to bigger near-cliques in a graph and, as a consequence, bigger context to consider at each step of search. Bigger `p` is for a better \"remote hops\", but it should not be close to 1, as it will make graph random (not SW)."
      ]
    },
    {
      "cell_type": "code",
      "metadata": {
        "id": "HT1FzrzDP0Ad",
        "colab_type": "code",
        "outputId": "1a33f528-6096-4392-f7ac-cb90fd56199d",
        "colab": {
          "base_uri": "https://localhost:8080/",
          "height": 34
        }
      },
      "source": [
        "import time\n",
        "start = time.time()\n",
        "G = build_graph(sent_vecs_normed, K=10, p=0.2)\n",
        "finish = time.time()\n",
        "print(\"Graph built in {:.2f} ms\".format(1000 * (finish - start)))"
      ],
      "execution_count": 14,
      "outputs": [
        {
          "output_type": "stream",
          "text": [
            "Graph built in 1.57 ms\n"
          ],
          "name": "stdout"
        }
      ]
    },
    {
      "cell_type": "markdown",
      "metadata": {
        "id": "5fXPHh3XP0Ai",
        "colab_type": "text"
      },
      "source": [
        "### 2.1 Searching in a small-world graph"
      ]
    },
    {
      "cell_type": "markdown",
      "metadata": {
        "id": "hx0Ef8x2P0Ak",
        "colab_type": "text"
      },
      "source": [
        "Now you need to implement an efficient search procedure which would utilize small world properties. Starting from the random node, at each step you should move towards the closest node (in terms of cosine simiarity, in our case), meanwhile keeping and refreshing top-K nearest neightbours collection. \n",
        "\n",
        "**Please implement basic NSW search**. \n",
        "\n",
        "You can refer to the `K-NNSearch` algorithm which pseudocode is given in section 4.2 of the [original paper](https://publications.hse.ru/mirror/pubs/share/folder/x5p6h7thif/direct/128296059).\n",
        "\n",
        "`search_nsw_basic()`\n",
        "- `query` - `vector` (`np.ndarray`) representing a query.\n",
        "- `nsw` - SW graph.\n",
        "- `top` - re-ranking set size.\n",
        "- `guard_hops` - if method does not converge, we will terminate when reaching guard_hops #steps.\n",
        "- `returns` - a pair of a `set` of indices and number of hops `(nearest_neighbours_set, hops)`"
      ]
    },
    {
      "cell_type": "code",
      "metadata": {
        "id": "HV5R4lgYP0Al",
        "colab_type": "code",
        "colab": {}
      },
      "source": [
        "import sortedcontainers\n",
        "from scipy.spatial import distance\n",
        "\n",
        "def search_nsw_basic(query, nsw, top=5, guard_hops=100):\n",
        "    ''' basic search algorithm, takes vector query and returns a pair (nearest_neighbours, hops)'''\n",
        "    #TODO implement basic NSW search\n",
        "    hops = 0    \n",
        "    c_poss = nsw[random.randint(0,len(nsw)-1)]\n",
        "    c_curr = 1\n",
        "    cos_best = 0.999\n",
        "    index_b = nsw[random.randint(0,len(nsw)-1)]\n",
        "    nearest_neighbours_set = []\n",
        "    while c_curr > cos_best:\n",
        "      c_curr = cos_best\n",
        "      c_poss = index_b\n",
        "      nearest_neighbours_set.append(c_poss.idx)\n",
        "      for b in (c_poss.neighbourhood):\n",
        "        \n",
        "        if distance.cosine(query, nsw[b].value)<cos_best:\n",
        "          cos_best, index_b = distance.cosine(query, nsw[b].value),nsw[b]\n",
        "      hops+=1\n",
        "      if hops == 100:\n",
        "        break\n",
        "\n",
        "  \n",
        "    return nearest_neighbours_set, hops"
      ],
      "execution_count": 0,
      "outputs": []
    },
    {
      "cell_type": "markdown",
      "metadata": {
        "id": "ZP8InLHIP0Aq",
        "colab_type": "text"
      },
      "source": [
        "### 2.2 Test the search procedure"
      ]
    },
    {
      "cell_type": "code",
      "metadata": {
        "id": "5BTMWXTgP0Ar",
        "colab_type": "code",
        "colab": {}
      },
      "source": [
        "test_queries = [\"good mood\", \"birds\", \"virus and bacteria\"]\n",
        "test_vectors = np.array([model.infer_vector(word_tokenize(q)) for q in test_queries])\n",
        "test_queries_normed = norm_vectors(test_vectors)"
      ],
      "execution_count": 0,
      "outputs": []
    },
    {
      "cell_type": "markdown",
      "metadata": {
        "id": "kh5U1IZtP0Av",
        "colab_type": "text"
      },
      "source": [
        "First, let's display the true nearest neighbours and measure average search time. "
      ]
    },
    {
      "cell_type": "code",
      "metadata": {
        "id": "KVzNnpdVP0Aw",
        "colab_type": "code",
        "outputId": "6eba4eb8-84f6-4ddc-9f2a-16e9c5b5bbde",
        "colab": {
          "base_uri": "https://localhost:8080/",
          "height": 403
        }
      },
      "source": [
        "search_time = 0\n",
        "for i, query in enumerate(test_queries):\n",
        "    start = time.time()\n",
        "    r = find_k_closest(test_queries_normed[i], sent_vecs_normed)\n",
        "    finish = time.time()\n",
        "    search_time += finish - start  \n",
        "\n",
        "    print(\"\\nResults for query:\", query)\n",
        "    for k, v, p in r:\n",
        "        print(\"\\t\", facts[k], \"sim=\", p)\n",
        "\n",
        "print(\"\\nExact search took {:.4f} ms on average\".format(1000 * (search_time/len(test_queries))))"
      ],
      "execution_count": 17,
      "outputs": [
        {
          "output_type": "stream",
          "text": [
            "\n",
            "Results for query: good mood\n",
            "\t 68. Cherophobia is the fear of fun. sim= 0.6169215\n",
            "\t 45. About half of all Americans are on a diet on any given day. sim= 0.54591876\n",
            "\t 76. You breathe on average about 8,409,600 times a year sim= 0.5296933\n",
            "\t 144. Dolphins sleep with one eye open! sim= 0.52570844\n",
            "\t 57. Gorillas burp when they are happy sim= 0.5225472\n",
            "\n",
            "Results for query: birds\n",
            "\t 47. Avocados are poisonous to birds. sim= 0.7113577\n",
            "\t 121. Birds don’t urinate. sim= 0.65965736\n",
            "\t 111. Butterflies taste their food with their feet. sim= 0.65335965\n",
            "\t 109. Cows kill more people than sharks do. sim= 0.640721\n",
            "\t 73. Scientists have tracked butterflies that travel over 3,000 miles. sim= 0.59202904\n",
            "\n",
            "Results for query: virus and bacteria\n",
            "\t 39. A 2010 study found that 48% of soda fountain contained fecal bacteria, and 11% contained E. Coli. sim= 0.6250343\n",
            "\t 47. Avocados are poisonous to birds. sim= 0.6076415\n",
            "\t 109. Cows kill more people than sharks do. sim= 0.6055639\n",
            "\t 54. Coconut water can be used as blood plasma. sim= 0.60306656\n",
            "\t 83. During your lifetime, you will produce enough saliva to fill two swimming pools. sim= 0.5822532\n",
            "\n",
            "Exact search took 2.5796 ms on average\n"
          ],
          "name": "stdout"
        }
      ]
    },
    {
      "cell_type": "markdown",
      "metadata": {
        "id": "s3SQjLnLP0A0",
        "colab_type": "text"
      },
      "source": [
        "Now, let's see `search_nsw_basic` in action. It should work way faster than pairwise comparisons above."
      ]
    },
    {
      "cell_type": "code",
      "metadata": {
        "id": "kBcOKbPEP0A2",
        "colab_type": "code",
        "outputId": "079a1e28-db7a-429f-dc18-f3e2c1eabfb8",
        "colab": {
          "base_uri": "https://localhost:8080/",
          "height": 289
        }
      },
      "source": [
        "search_time = 0\n",
        "for i, query in enumerate(test_queries):\n",
        "    start = time.time()\n",
        "    ans, hops = search_nsw_basic(test_queries_normed[i], G)\n",
        "    finish = time.time()\n",
        "    search_time += finish - start\n",
        "\n",
        "    print(\"\\nResults for query:\", query)\n",
        "    for k in ans:\n",
        "        print(\"\\t\", facts[k], \"sim=\", np.dot(test_queries_normed[i], sent_vecs_normed[k]))\n",
        "        \n",
        "print(\"\\nBasic nsw search took {:.4f} ms on average\".format(1000 * (search_time/len(test_queries))))    "
      ],
      "execution_count": 18,
      "outputs": [
        {
          "output_type": "stream",
          "text": [
            "\n",
            "Results for query: good mood\n",
            "\t 116. Male dogs lift their legs when they are urinating for a reason. They are trying to leave their mark higher so that it gives off the message that they are tall and intimidating. sim= 0.4144693\n",
            "\t 54. Coconut water can be used as blood plasma. sim= 0.45134032\n",
            "\t 57. Gorillas burp when they are happy sim= 0.5225472\n",
            "\n",
            "Results for query: birds\n",
            "\t 142. The placement of a donkey’s eyes in its’ heads enables it to see all four feet at all times! sim= 0.4785607\n",
            "\t 144. Dolphins sleep with one eye open! sim= 0.58778775\n",
            "\n",
            "Results for query: virus and bacteria\n",
            "\t 81. Under the Code of Hammurabi, bartenders who watered down beer were punished by execution. sim= 0.3394858\n",
            "\t 83. During your lifetime, you will produce enough saliva to fill two swimming pools. sim= 0.5822532\n",
            "\n",
            "Basic nsw search took 2.9117 ms on average\n"
          ],
          "name": "stdout"
        }
      ]
    },
    {
      "cell_type": "markdown",
      "metadata": {
        "id": "6jgJG9WzP0A6",
        "colab_type": "text"
      },
      "source": [
        "The results you see should be worse than the exact nearest neighbours, however, not completely random. Pay attention to the similarity values."
      ]
    },
    {
      "cell_type": "markdown",
      "metadata": {
        "id": "nshyfUo7P0A7",
        "colab_type": "text"
      },
      "source": [
        "## 3. Navigable small-world graph\n",
        "\n",
        "When building small-world graph using Watts–Strogatz model, there was no notion of proximity between the nodes - it was completely ignored. In Navigable small-world graphs, however, the idea is to insert nodes in such a way that the cliques form real neighbourhoods, meaning points that are connected are close to each other. Please refer to section 5 of the [paper](https://publications.hse.ru/mirror/pubs/share/folder/x5p6h7thif/direct/128296059) for the details."
      ]
    },
    {
      "cell_type": "code",
      "metadata": {
        "id": "rp1t8hCjP0A8",
        "colab_type": "code",
        "colab": {}
      },
      "source": [
        "def build_navigable_graph(values, K):\n",
        "    '''Accepts container with values. Returns list with graph nodes.\n",
        "    K parameter stands for the size of the set of closest neighbors to connect to when adding a node'''\n",
        "    #TODO implement navigable small-world graph consrtuction  \n",
        "       \n",
        "    N = len(values)\n",
        "    nodes = [None] * N\n",
        "    nodes_value = []\n",
        "    # create nodes\n",
        "    for i, val in enumerate(values):\n",
        "        nodes[i] = Node(val, i)\n",
        "    \n",
        "    for k in range (0,K):\n",
        "      nodes_value.append(nodes[k].value)\n",
        "      for b in range (0,k):\n",
        "        nodes[k].neighbourhood.add(b)\n",
        "\n",
        "      for b in range (k,K):\n",
        "        nodes[k].neighbourhood.add(b)\n",
        "      \n",
        "    \n",
        "\n",
        "    for z in range (k+1,len(nodes)):\n",
        "\n",
        "      r = find_k_closest(nodes[z].value,nodes_value, K)\n",
        "      for k, v, p in r:\n",
        "        nodes[z].neighbourhood.add(k)\n",
        "      nodes_value.append(nodes[z].value)\n",
        "\n",
        "    return nodes"
      ],
      "execution_count": 0,
      "outputs": []
    },
    {
      "cell_type": "markdown",
      "metadata": {
        "id": "KMizvcIoP0BB",
        "colab_type": "text"
      },
      "source": [
        "### 3.1 Building and testing the graph"
      ]
    },
    {
      "cell_type": "code",
      "metadata": {
        "id": "_srxV5b5P0BC",
        "colab_type": "code",
        "colab": {}
      },
      "source": [
        "navigable_G = build_navigable_graph(sent_vecs_normed, K=10)"
      ],
      "execution_count": 0,
      "outputs": []
    },
    {
      "cell_type": "code",
      "metadata": {
        "id": "GojmfdvBP0BH",
        "colab_type": "code",
        "outputId": "55edc791-cad6-4f33-b246-2998a3efe980",
        "colab": {
          "base_uri": "https://localhost:8080/",
          "height": 286
        }
      },
      "source": [
        "search_time = 0\n",
        "for i, query in enumerate(test_queries):\n",
        "    start = time.time()\n",
        "    ans, hops = search_nsw_basic(test_queries_normed[i], navigable_G) \n",
        "    finish = time.time()\n",
        "    search_time += finish - start\n",
        "    \n",
        "    print(\"\\nResults for query:\", query)\n",
        "    for k in ans:\n",
        "        print(\"\\t\", facts[k], \"sim=\", np.dot(test_queries_normed[i], sent_vecs_normed[k]))\n",
        "        \n",
        "print(\"\\nSearch in navigable graph took {:.4f} ms on average\".format(1000 * (search_time/len(test_queries))))  "
      ],
      "execution_count": 40,
      "outputs": [
        {
          "output_type": "stream",
          "text": [
            "\n",
            "Results for query: good mood\n",
            "\t 39. A 2010 study found that 48% of soda fountain contained fecal bacteria, and 11% contained E. Coli. sim= 0.3566344\n",
            "\t 6. There are more lifeforms living on your skin than there are people on the planet. sim= 0.48800442\n",
            "\t 5. You burn more calories sleeping than you do watching television. sim= 0.5034689\n",
            "\n",
            "Results for query: birds\n",
            "\t 55. The word “gorilla” is derived from a Greek word meaning, “A tribe of hairy women.” sim= 0.46806565\n",
            "\t 47. Avocados are poisonous to birds. sim= 0.7113577\n",
            "\n",
            "Results for query: virus and bacteria\n",
            "\t 129. In the past 20 years, scientists have found over 1,000 planets outside of our solar system. sim= 0.4419864\n",
            "\t 73. Scientists have tracked butterflies that travel over 3,000 miles. sim= 0.512032\n",
            "\t 47. Avocados are poisonous to birds. sim= 0.6076415\n",
            "\n",
            "Search in navigable graph took 4.9179 ms on average\n"
          ],
          "name": "stdout"
        }
      ]
    },
    {
      "cell_type": "markdown",
      "metadata": {
        "id": "rUA42llTP0BL",
        "colab_type": "text"
      },
      "source": [
        "## 4. Comparing search quality in resulting graphs\n",
        "\n",
        "For both graphs, for each data sample, retrieve K nearest neighbours and compare them to the true nearest neighbours of the sample. If the retrieved result is present in the true top-k list of the sample, then it is counted as a hit. For both graphs, report the total number of hits, and the average number of hits per sample.\n",
        "\n",
        "For example: `Number of hits 394 out of 795, avg per query 2.48`"
      ]
    },
    {
      "cell_type": "code",
      "metadata": {
        "id": "BPrDcG9ZP0BM",
        "colab_type": "code",
        "colab": {
          "base_uri": "https://localhost:8080/",
          "height": 50
        },
        "outputId": "121e8ec0-d8ac-44da-b5f5-0b7dfcee2e98"
      },
      "source": [
        "#TODO measure and report the described metrics\n",
        "# for i, query in enumerate(test_queries):\n",
        "hits1 = 0\n",
        "hits2 = 0\n",
        "for sent in facts: \n",
        "  test_vectors = np.array([model.infer_vector(word_tokenize(sent))])\n",
        "  test_queries_normed = norm_vectors(test_vectors)\n",
        "  r = find_k_closest(test_queries_normed, sent_vecs_normed)\n",
        "  lis = []\n",
        "  for k, v, p in r:\n",
        "    lis.append(k)\n",
        "  ans, hops = search_nsw_basic(test_queries_normed, G)\n",
        "  navi, hops1 = search_nsw_basic(test_queries_normed, navigable_G) \n",
        "\n",
        "  hits1+=len(set(lis).intersection(ans))\n",
        "  hits2+=len(set(lis).intersection(navi))\n",
        "\n",
        "print(\"Number of hits for not navigatable graph\",hits1,\"out of\",len(facts)*5,\", avg per query\", hits1/len(facts))\n",
        "print(\"Number of hits for navigatable graph\",hits2,\"out of\",len(facts)*5,\", avg per query\",hits2/len(facts))"
      ],
      "execution_count": 78,
      "outputs": [
        {
          "output_type": "stream",
          "text": [
            "Number of hits for not navigatable graph 72 out of 795 , avg per query 0.4528301886792453\n",
            "Number of hits for navigatable graph 122 out of 795 , avg per query 0.7672955974842768\n"
          ],
          "name": "stdout"
        }
      ]
    },
    {
      "cell_type": "markdown",
      "metadata": {
        "id": "R4RV7rw6P0BQ",
        "colab_type": "text"
      },
      "source": [
        "### Bonus task\n",
        "\n",
        "Generate a small set of 2d points and build 2 types of graphs for this set: small-world graph based on Watts–Strogatz algorithm, and Navigable small-world graph. Visualize both graphs and analyze their structures - do they differ? Does Navigable small-world graph capture geometric proximity better?"
      ]
    },
    {
      "cell_type": "code",
      "metadata": {
        "id": "eyz-ZMBXP0BR",
        "colab_type": "code",
        "colab": {}
      },
      "source": [
        "#TODO bonus task"
      ],
      "execution_count": 0,
      "outputs": []
    }
  ]
}