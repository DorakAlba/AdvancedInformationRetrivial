{
  "nbformat": 4,
  "nbformat_minor": 0,
  "metadata": {
    "kernelspec": {
      "display_name": "Python 3",
      "language": "python",
      "name": "python3"
    },
    "language_info": {
      "codemirror_mode": {
        "name": "ipython",
        "version": 3
      },
      "file_extension": ".py",
      "mimetype": "text/x-python",
      "name": "python",
      "nbconvert_exporter": "python",
      "pygments_lexer": "ipython3",
      "version": "3.6.10"
    },
    "colab": {
      "name": "Language_models_template.ipynb",
      "provenance": []
    }
  },
  "cells": [
    {
      "cell_type": "markdown",
      "metadata": {
        "id": "p63l5ZAlxrMA",
        "colab_type": "text"
      },
      "source": [
        "# Language and Topic models\n",
        "\n",
        "A common suggestion to users for coming up with good queries is to think of words that would likely appear in a relevant document, and to use those words as the query. The language modeling approach to IR directly models this idea: a document is a good match to a query if the document model is likely to generate the query, which will in turn happen if the document contains the query words often. \n",
        "\n",
        "Today we will score documents with respect to user query using language models and also get some experience with topic modelling."
      ]
    },
    {
      "cell_type": "markdown",
      "metadata": {
        "id": "c6Z97YjVxrMB",
        "colab_type": "text"
      },
      "source": [
        "## Loading data\n",
        "\n",
        "In this class we will use the dataset we already used once - [this topic-modeling dataset](https://code.google.com/archive/p/topic-modeling-tool/downloads)."
      ]
    },
    {
      "cell_type": "code",
      "metadata": {
        "id": "9Dy_J1XWIbjG",
        "colab_type": "code",
        "colab": {}
      },
      "source": [
        "!wget -O music.txt https://storage.googleapis.com/google-code-archive-downloads/v2/code.google.com/topic-modeling-tool/testdata_news_music_2084docs.txt\n",
        "!wget -O economy.txt https://storage.googleapis.com/google-code-archive-downloads/v2/code.google.com/topic-modeling-tool/testdata_news_economy_2073docs.txt\n",
        "!wget -O fuel.txt https://storage.googleapis.com/google-code-archive-downloads/v2/code.google.com/topic-modeling-tool/testdata_news_fuel_845docs.txt\n",
        "!wget -O brain.txt https://storage.googleapis.com/google-code-archive-downloads/v2/code.google.com/topic-modeling-tool/testdata_braininjury_10000docs.txt\n",
        "#TODO read the dataset into list\n",
        "import itertools\n",
        "import pandas as pd\n",
        "brain=[]\n",
        "economy = []\n",
        "music = []\n",
        "fuel = []\n",
        "\n",
        "bb = open('brain.txt', 'r')\n",
        "for b in bb:\n",
        "  brain.append(b)\n",
        "\n",
        "ee = open(\"economy.txt\", 'r')\n",
        "for b in ee:\n",
        "  economy.append(b)\n",
        "\n",
        "\n",
        "mu = open(\"music.txt\",'r')\n",
        "for b in mu:\n",
        "  music.append(b)\n",
        "\n",
        "fu = open(\"fuel.txt\",'r')\n",
        "for b in fu:\n",
        "  fuel.append(b)\n",
        "all_data = list(itertools.chain(brain, economy, music, fuel))"
      ],
      "execution_count": 0,
      "outputs": []
    },
    {
      "cell_type": "markdown",
      "metadata": {
        "id": "PWxIf4I8xrMN",
        "colab_type": "text"
      },
      "source": [
        "## 1. Ranking Using Language Models\n",
        "Our goal is to rank documents by *P(d|q)*, where the probability of a document is interpreted as the likelihood that it is relevant to the query. \n",
        "\n",
        "Using Bayes rule: *P(d|q) = P(q|d)P(d)/P(q)*\n",
        "\n",
        "*P(q)* is the same for all documents, and so can be ignored. The prior probability of a document *P(d)* is often treated as uniform across all *d* and so it can also be ignored. What does it mean? \n",
        "\n",
        "It means that comparing *P(q|d)* between different documents we can compare how relevant are they to the query. How can we estimate *P(q|d)*?\n",
        "\n",
        "*P(q|d)* can be estimated as:\n",
        "![](https://i.imgur.com/BEIMAC1.png)\n",
        "\n",
        "where M<sub>d</sub> is the language model of document *d*, tf<sub>t,d</sub> is the term frequency of term *t* in document *d*, and L<sub>d</sub> is the number of tokens in document *d*. That is, we just count up how often each word occurred, and divide by the total number of words in the document *d*. The first thing we need to do is to build a term-document matrix for tour dataset."
      ]
    },
    {
      "cell_type": "code",
      "metadata": {
        "id": "131RyiwKJx9s",
        "colab_type": "code",
        "colab": {}
      },
      "source": [
        "import nltk\n",
        "nltk.download('all')\n",
        "from nltk.tokenize import word_tokenize\n",
        "tokenized_sents = [word_tokenize(i.lower()) for i in all_data]\n",
        "import pandas as pd\n",
        "from sklearn.feature_extraction.text import CountVectorizer\n",
        "\n",
        "vec = CountVectorizer()\n",
        "X = vec.fit_transform(all_data)\n",
        "df = pd.DataFrame(X.toarray(), columns=vec.get_feature_names())"
      ],
      "execution_count": 0,
      "outputs": []
    },
    {
      "cell_type": "markdown",
      "metadata": {
        "id": "tKWRifYbxrMR",
        "colab_type": "text"
      },
      "source": [
        "### Smoothing\n",
        "\n",
        "Now, you need to implement the abovementioned logic in the `lm_rank_documents` function below. Do you see any potential problems?\n",
        "\n",
        "Yes, data sparsity - we don't expect to meet each term in each doc, so, in most cases, we will get zero scores, which is not what we really want.\n",
        "\n",
        "The solution is smooting.\n",
        "\n",
        "One option is *additive smoothing* - adding a small number (0 to 1) to the observed counts and renormalizing to give a probability distribution.\n",
        "\n",
        "Another option is called Jelinek-Mercer smoothing - a simple idea that works well in practice is to use a mixture between a document-specific distribution and distribution estimated from the entire collection:\n",
        "\n",
        "![](https://i.imgur.com/8Qv41Wp.png)\n",
        "\n",
        "where 0 < λ < 1 and M<sub>c</sub> is a language model built from the entire document collection.\n",
        "\n",
        "Refer to *Chapter 12* for the detailed explanation.\n",
        "\n",
        "\n",
        "You are going to apply both in your `lm_rank_documents` function. This function takes as an input tdm matrix, and ranks all documents \"building\" a language model for each document, returning relative probabilities of query being generated by a document as a document's score."
      ]
    },
    {
      "cell_type": "code",
      "metadata": {
        "id": "jVGgNKsgxrMR",
        "colab_type": "code",
        "colab": {}
      },
      "source": [
        "import numpy as np\n",
        "\n",
        "def lm_rank_documents(query, tdm = df, terms_list = tokenized_sents, smoothing='additive', param=0.001):\n",
        "    tokenized = nltk.word_tokenize(query.lower())\n",
        "    tokenized=set(tokenized)\n",
        "    scores = []\n",
        "    suma = df.values.sum()\n",
        "    if smoothing == 'additive':\n",
        "    # TODO: score each document in tdm using this document's language model\n",
        "    # implement two types of smoothing. Looks up term frequencies in tdm\n",
        "    # return document scores in a convenient form\n",
        "    # param is alpha for additive / lambda for jelinek-mercer\n",
        "      for numb,document in enumerate(terms_list):\n",
        "        scop = 1\n",
        "        unique = set ()\n",
        "        for word in document:\n",
        "          unique.add(word)\n",
        "        for word in unique:\n",
        "          if word in tokenized:\n",
        "            scop = scop*df.at[numb,f'{word}']/len(document) + param\n",
        "          else:\n",
        "            scop =+ param\n",
        "        scores.append(tuple([numb, scop]))\n",
        "      \n",
        "    else:\n",
        "      for numb,document in enumerate(terms_list):\n",
        "        scop = 1\n",
        "        unique = set ()\n",
        "        for word in document:\n",
        "          unique.add(word)\n",
        "        for word in unique:\n",
        "          word_rarity = df[word].sum()/suma\n",
        "          if word in tokenized:\n",
        "            scop = scop*df.at[numb,f'{word}']/len(document) + word_rarity*(1-param)\n",
        "          else:\n",
        "            scop =+ word_rarity*(1-param)\n",
        "        scores.append(tuple([numb, scop]))\n",
        "\n",
        "    return sorted(scores, key=lambda x: x[1],reverse = True)"
      ],
      "execution_count": 0,
      "outputs": []
    },
    {
      "cell_type": "markdown",
      "metadata": {
        "id": "awo9VviSxrMX",
        "colab_type": "text"
      },
      "source": [
        "### Testing\n",
        "\n",
        "Check if this type of ranking gives meaningful results. For each query output document category, doc_id, score, and the beginning of the document, as it is shown below. Analyze if categories and contents match the queries. "
      ]
    },
    {
      "cell_type": "code",
      "metadata": {
        "scrolled": false,
        "id": "XH4afXARxrMY",
        "colab_type": "code",
        "outputId": "4b938218-2edf-44ea-f0b0-40bfeaa3cccb",
        "colab": {
          "base_uri": "https://localhost:8080/",
          "height": 1000
        }
      },
      "source": [
        "def process_query(raw_query):\n",
        "    scor = lm_rank_documents(raw_query, tdm = df, terms_list = tokenized_sents, smoothing='additive', param=0.001)\n",
        "    # TODO: process user query and print search results including document category, id, score, and some part of it\n",
        "    print (\"user query:\"+ raw_query)\n",
        "\n",
        "    for g in range (5):\n",
        "      z = scor[g][0]\n",
        "      print('index',z)\n",
        "      print('score',scor[g][1])\n",
        "      print(all_data[z])\n",
        "      if z<len(brain):\n",
        "        print('text from :brain')\n",
        "      elif z< len(brain)+len(economy):\n",
        "        print('text from :economy')\n",
        "      elif z< len(brain)+len(economy)+len(music):\n",
        "        print('text from :music')\n",
        "      else:\n",
        "        print('text from :fuel')\n",
        "      print(\"\\n\",\"\\n\")\n",
        "    pass\n",
        "    \n",
        "\n",
        "user_queries = [\"piano concert\", \"symptoms of head trauma\", \"wall street journal\"]\n",
        "for q in user_queries:\n",
        "    process_query(q)\n",
        "    print(\"\\n\")"
      ],
      "execution_count": 70,
      "outputs": [
        {
          "output_type": "stream",
          "text": [
            "user query:piano concert\n",
            "index 0\n",
            "score 0.001\n",
            "therapeutic potential melatonin traumatic central nervous system injury vast literature extolling the benefits melatonin has accumulated during the past four decades melatonin was previously considered importance seasonal reproduction and circadian rhythmicity currently appears versatile anti oxidative and anti nitrosative agent molecule with immunomodulatory actions and profound oncostatic activity and also play role potent neuroprotectant nowadays melatonin sold dietary supplement with differential availability over the counter aid different countries there widespread agreement that melatonin nontoxic and safe considering its frequent long term usage humans both physiological and pharmacological doses with reported side effects endeavors toward designated drug status for melatonin may enormously rewarding clinics for treatment several forms neurotrauma where effective pharmacological intervention has not yet been attained this mini review consolidates the data regarding the efficacy melatonin unique neuroprotective agent traumatic central nervous system cns injuries well documented actions melatonin combating traumatic cns damage are compiled from various clinical and experimental studies research traumatic brain injury and ischemia reperfusion are briefly outlined here they have been recently reviewed elsewhere whereas the studies different animal models the experimental spinal cord injury have been extensively covered this mini review for the first time \n",
            "\n",
            "text from :brain\n",
            "\n",
            " \n",
            "\n",
            "index 1\n",
            "score 0.001\n",
            "epidemiology traumatic and spontaneous subconjunctival haemorrhages congo purpose determine frequency and associated conditions subconjunctival haemorrhage methods descriptive and cross sectional study all consecutive patients with traumatic and spontaneous subconjunctival haemorrhage sch examined between and general practice ophthalmology results there were patients with sch eyes among consulting patients they consisted women and men with mean age years among the patients with sch had traumatic sch and had spontaneous sch both populations patients females outnumbered males the mean age was and years for patients with spontaneous and traumatic sch respectively patients with spontaneous sch presented earlier days and complained red eye greater extent than patients with traumatic sch there were statistically significant differences between the patients with spontaneous and traumatic sch with respect gender eye involvement location sch and occupation patients the condition was unilateral eyes location sch was most found temporal nasal spontaneous sch apparent associated condition was found hypertension was the most frequent associated condition other associated conditions were rare and included vomiting sneezing malaria hypoglycaemia sickle cell disease and delivery traumatic sch injuries occurred home conclusion schs were seen patients and occurred more frequently women than men this study \n",
            "\n",
            "text from :brain\n",
            "\n",
            " \n",
            "\n",
            "index 2\n",
            "score 0.001\n",
            "combat veterans mental health issues and the death penalty addressing the impact post traumatic stress disorder and traumatic brain injury more than million americans have participated combat operations iraq and afghanistan over the past seven years some these veterans have subsequently committed capital crimes and found themselves our nation criminal justice system this essay argues that combat veterans suffering from post traumatic stress disorder traumatic brain injury the time their offenses should not subject the death penalty offering mitigating evidence regarding military training post traumatic stress disorder and traumatic brain injury presents one means that combat veterans may use argue for their lives during the sentencing phase their trials alternatively atkins virginia and roper simmons offer framework for establishing legislatively judicially created categorical exclusion for these offenders exempting them from the death penalty matter law understanding how combat service and service related injuries affect the personal culpability these offenders the legal system can avoid the consequences sentencing death america mentally wounded warriors ensuring that only the worst offenders are subject the ultimate punishment \n",
            "\n",
            "text from :brain\n",
            "\n",
            " \n",
            "\n",
            "index 3\n",
            "score 0.001\n",
            "should epidural drain recommended after supratentorial craniotomy for epileptic patients background was once and still commonly applied prevent mainly and subgaleal csf collection designed this study observe could decrease the incidence and volume and subgaleal csf collection after supratentorial craniotomy epileptic patients methods three hundred forty two epileptic patients were divided into groups according their first craniotomy date group odd date and group even date patients group had and those group had the patient numbers and volumes and subgaleal csf collections both groups were recorded and statistically analyzed results there were ehs group and ehs group there were and subgaleal csf collections groups and respectively the average volume was and groups and respectively the average volume subgaleal csf collection was and groups and respectively there were statistical differences the incidence and average volume and subgaleal csf collection between the groups conclusions cannot decrease the incidence and volume and subgaleal csf collection should not recommended after supratentorial epileptic craniotomy \n",
            "\n",
            "text from :brain\n",
            "\n",
            " \n",
            "\n",
            "index 4\n",
            "score 0.001\n",
            "evaluating compliance the scandinavian guidelines mild head injury \n",
            "\n",
            "text from :brain\n",
            "\n",
            " \n",
            "\n",
            "\n",
            "\n",
            "user query:symptoms of head trauma\n",
            "index 988\n",
            "score 1.001\n",
            "trauma \n",
            "\n",
            "text from :brain\n",
            "\n",
            " \n",
            "\n",
            "index 5111\n",
            "score 0.2515\n",
            "head trauma \n",
            "\n",
            "text from :brain\n",
            "\n",
            " \n",
            "\n",
            "index 4423\n",
            "score 0.0015\n",
            "head injury \n",
            "\n",
            "text from :brain\n",
            "\n",
            " \n",
            "\n",
            "index 3502\n",
            "score 0.0013333333333333333\n",
            "gunshot wound head \n",
            "\n",
            "text from :brain\n",
            "\n",
            " \n",
            "\n",
            "index 3782\n",
            "score 0.0013333333333333333\n",
            "whose head anyway \n",
            "\n",
            "text from :brain\n",
            "\n",
            " \n",
            "\n",
            "\n",
            "\n",
            "user query:wall street journal\n",
            "index 1476\n",
            "score 0.0013333333333333333\n",
            "journal neurotrauma editorial \n",
            "\n",
            "text from :brain\n",
            "\n",
            " \n",
            "\n",
            "index 0\n",
            "score 0.001\n",
            "therapeutic potential melatonin traumatic central nervous system injury vast literature extolling the benefits melatonin has accumulated during the past four decades melatonin was previously considered importance seasonal reproduction and circadian rhythmicity currently appears versatile anti oxidative and anti nitrosative agent molecule with immunomodulatory actions and profound oncostatic activity and also play role potent neuroprotectant nowadays melatonin sold dietary supplement with differential availability over the counter aid different countries there widespread agreement that melatonin nontoxic and safe considering its frequent long term usage humans both physiological and pharmacological doses with reported side effects endeavors toward designated drug status for melatonin may enormously rewarding clinics for treatment several forms neurotrauma where effective pharmacological intervention has not yet been attained this mini review consolidates the data regarding the efficacy melatonin unique neuroprotective agent traumatic central nervous system cns injuries well documented actions melatonin combating traumatic cns damage are compiled from various clinical and experimental studies research traumatic brain injury and ischemia reperfusion are briefly outlined here they have been recently reviewed elsewhere whereas the studies different animal models the experimental spinal cord injury have been extensively covered this mini review for the first time \n",
            "\n",
            "text from :brain\n",
            "\n",
            " \n",
            "\n",
            "index 1\n",
            "score 0.001\n",
            "epidemiology traumatic and spontaneous subconjunctival haemorrhages congo purpose determine frequency and associated conditions subconjunctival haemorrhage methods descriptive and cross sectional study all consecutive patients with traumatic and spontaneous subconjunctival haemorrhage sch examined between and general practice ophthalmology results there were patients with sch eyes among consulting patients they consisted women and men with mean age years among the patients with sch had traumatic sch and had spontaneous sch both populations patients females outnumbered males the mean age was and years for patients with spontaneous and traumatic sch respectively patients with spontaneous sch presented earlier days and complained red eye greater extent than patients with traumatic sch there were statistically significant differences between the patients with spontaneous and traumatic sch with respect gender eye involvement location sch and occupation patients the condition was unilateral eyes location sch was most found temporal nasal spontaneous sch apparent associated condition was found hypertension was the most frequent associated condition other associated conditions were rare and included vomiting sneezing malaria hypoglycaemia sickle cell disease and delivery traumatic sch injuries occurred home conclusion schs were seen patients and occurred more frequently women than men this study \n",
            "\n",
            "text from :brain\n",
            "\n",
            " \n",
            "\n",
            "index 2\n",
            "score 0.001\n",
            "combat veterans mental health issues and the death penalty addressing the impact post traumatic stress disorder and traumatic brain injury more than million americans have participated combat operations iraq and afghanistan over the past seven years some these veterans have subsequently committed capital crimes and found themselves our nation criminal justice system this essay argues that combat veterans suffering from post traumatic stress disorder traumatic brain injury the time their offenses should not subject the death penalty offering mitigating evidence regarding military training post traumatic stress disorder and traumatic brain injury presents one means that combat veterans may use argue for their lives during the sentencing phase their trials alternatively atkins virginia and roper simmons offer framework for establishing legislatively judicially created categorical exclusion for these offenders exempting them from the death penalty matter law understanding how combat service and service related injuries affect the personal culpability these offenders the legal system can avoid the consequences sentencing death america mentally wounded warriors ensuring that only the worst offenders are subject the ultimate punishment \n",
            "\n",
            "text from :brain\n",
            "\n",
            " \n",
            "\n",
            "index 3\n",
            "score 0.001\n",
            "should epidural drain recommended after supratentorial craniotomy for epileptic patients background was once and still commonly applied prevent mainly and subgaleal csf collection designed this study observe could decrease the incidence and volume and subgaleal csf collection after supratentorial craniotomy epileptic patients methods three hundred forty two epileptic patients were divided into groups according their first craniotomy date group odd date and group even date patients group had and those group had the patient numbers and volumes and subgaleal csf collections both groups were recorded and statistically analyzed results there were ehs group and ehs group there were and subgaleal csf collections groups and respectively the average volume was and groups and respectively the average volume subgaleal csf collection was and groups and respectively there were statistical differences the incidence and average volume and subgaleal csf collection between the groups conclusions cannot decrease the incidence and volume and subgaleal csf collection should not recommended after supratentorial epileptic craniotomy \n",
            "\n",
            "text from :brain\n",
            "\n",
            " \n",
            "\n",
            "\n",
            "\n"
          ],
          "name": "stdout"
        }
      ]
    },
    {
      "cell_type": "markdown",
      "metadata": {
        "id": "7PRzqPoKxrMc",
        "colab_type": "text"
      },
      "source": [
        "## 2. Topic modeling\n",
        "\n",
        "Now let's use *Latent Dirichlet Allocation* to identify topics in this collection and check if they match the original topics (fuel, economy, etc.). Go through the tutorial [here](https://towardsdatascience.com/end-to-end-topic-modeling-in-python-latent-dirichlet-allocation-lda-35ce4ed6b3e0) and apply the ideas there to our dataset. "
      ]
    },
    {
      "cell_type": "code",
      "metadata": {
        "scrolled": true,
        "id": "GAnft39FxrMc",
        "colab_type": "code",
        "outputId": "c1663012-fe4f-41a6-a900-f3b7323a8f64",
        "colab": {
          "base_uri": "https://localhost:8080/",
          "height": 34
        }
      },
      "source": [
        "# TODO: apply LDA to our dataset and output the resulting categories \n"
      ],
      "execution_count": 38,
      "outputs": [
        {
          "output_type": "execute_result",
          "data": {
            "text/plain": [
              "3"
            ]
          },
          "metadata": {
            "tags": []
          },
          "execution_count": 38
        }
      ]
    },
    {
      "cell_type": "code",
      "metadata": {
        "id": "E27Y1i8golhs",
        "colab_type": "code",
        "colab": {
          "base_uri": "https://localhost:8080/",
          "height": 613
        },
        "outputId": "fcfbdbe7-f7c8-49ce-a47c-491b88542205"
      },
      "source": [
        "from sklearn.feature_extraction.text import CountVectorizer\n",
        "import numpy as np\n",
        "\n",
        "import matplotlib.pyplot as plt\n",
        "import seaborn as sns\n",
        "sns.set_style('whitegrid')\n",
        "%matplotlib inline\n",
        "\n",
        "# Helper function\n",
        "def plot_10_most_common_words(count_data, count_vectorizer):\n",
        "    import matplotlib.pyplot as plt\n",
        "    words = count_vectorizer.get_feature_names()\n",
        "    total_counts = np.zeros(len(words))\n",
        "    for t in count_data:\n",
        "        total_counts+=t.toarray()[0]\n",
        "    \n",
        "    count_dict = (zip(words, total_counts))\n",
        "    count_dict = sorted(count_dict, key=lambda x:x[1], reverse=True)[0:10]\n",
        "    words = [w[0] for w in count_dict]\n",
        "    counts = [w[1] for w in count_dict]\n",
        "    x_pos = np.arange(len(words)) \n",
        "    \n",
        "    plt.figure(2, figsize=(15, 15/1.6180))\n",
        "    plt.subplot(title='10 most common words')\n",
        "    sns.set_context(\"notebook\", font_scale=1.25, rc={\"lines.linewidth\": 2.5})\n",
        "    sns.barplot(x_pos, counts, palette='husl')\n",
        "    plt.xticks(x_pos, words, rotation=90) \n",
        "    plt.xlabel('words')\n",
        "    plt.ylabel('counts')\n",
        "    plt.show()\n",
        "\n",
        "# Initialise the count vectorizer with the English stop words\n",
        "count_vectorizer = CountVectorizer(stop_words='english')\n",
        "\n",
        "# Fit and transform the processed titles\n",
        "count_data = count_vectorizer.fit_transform(all_data)\n",
        "\n",
        "# Visualise the 10 most common words\n",
        "plot_10_most_common_words(count_data, count_vectorizer)"
      ],
      "execution_count": 56,
      "outputs": [
        {
          "output_type": "display_data",
          "data": {
            "image/png": "[encoded data removed]",
            "text/plain": [
              "<Figure size 1080x667.491 with 1 Axes>"
            ]
          },
          "metadata": {
            "tags": [],
            "needs_background": "light"
          }
        }
      ]
    },
    {
      "cell_type": "code",
      "metadata": {
        "id": "gDTXPp6Mz4_C",
        "colab_type": "code",
        "colab": {
          "base_uri": "https://localhost:8080/",
          "height": 286
        },
        "outputId": "da1b4ab7-21ec-485c-a48b-c17bfbf25d63"
      },
      "source": [
        "import warnings\n",
        "warnings.simplefilter(\"ignore\", DeprecationWarning)\n",
        "\n",
        "# Load the LDA model from sk-learn\n",
        "from sklearn.decomposition import LatentDirichletAllocation as LDA\n",
        " \n",
        "# Helper function\n",
        "def print_topics(model, count_vectorizer, n_top_words):\n",
        "    words = count_vectorizer.get_feature_names()\n",
        "    for topic_idx, topic in enumerate(model.components_):\n",
        "        print(\"\\nTopic #%d:\" % topic_idx)\n",
        "        print(\" \".join([words[i]\n",
        "                        for i in topic.argsort()[:-n_top_words - 1:-1]]))\n",
        "        \n",
        "# Tweak the two parameters below (use int values below 15)\n",
        "number_topics = 5\n",
        "number_words = 10\n",
        "\n",
        "# Create and fit the LDA model\n",
        "lda = LDA(n_components=number_topics)\n",
        "lda.fit(count_data)\n",
        "\n",
        "# Print the topics found by the LDA model\n",
        "print(\"Topics found via LDA:\")\n",
        "print_topics(lda, count_vectorizer, number_words)"
      ],
      "execution_count": 57,
      "outputs": [
        {
          "output_type": "stream",
          "text": [
            "Topics found via LDA:\n",
            "\n",
            "Topic #0:\n",
            "atlanta new news journal constitution york moved cox beach times\n",
            "\n",
            "Topic #1:\n",
            "new york music jan film like people life times words\n",
            "\n",
            "Topic #2:\n",
            "music says que like band album songs best just song\n",
            "\n",
            "Topic #3:\n",
            "said new year people bush enron percent company years time\n",
            "\n",
            "Topic #4:\n",
            "patients injury brain traumatic study tbi results injuries trauma head\n"
          ],
          "name": "stdout"
        }
      ]
    },
    {
      "cell_type": "code",
      "metadata": {
        "id": "fQeIaiHS571l",
        "colab_type": "code",
        "colab": {}
      },
      "source": [
        ""
      ],
      "execution_count": 0,
      "outputs": []
    }
  ]
}