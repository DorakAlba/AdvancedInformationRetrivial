{
  "nbformat": 4,
  "nbformat_minor": 0,
  "metadata": {
    "kernelspec": {
      "display_name": "Python 3",
      "language": "python",
      "name": "python3"
    },
    "language_info": {
      "codemirror_mode": {
        "name": "ipython",
        "version": 3
      },
      "file_extension": ".py",
      "mimetype": "text/x-python",
      "name": "python",
      "nbconvert_exporter": "python",
      "pygments_lexer": "ipython3",
      "version": "3.6.10"
    },
    "colab": {
      "name": "Evaluation_template.ipynb",
      "provenance": [],
      "toc_visible": true
    }
  },
  "cells": [
    {
      "cell_type": "markdown",
      "metadata": {
        "id": "8LvITpjYL6O-",
        "colab_type": "text"
      },
      "source": [
        "# Measure and improve\n",
        "\n",
        "\n",
        "All these weeks we were exploring different ways to build a search engine: based on vectors, graphs, trees. We were adding new features such as spell-checking and suggest. This all might seem good, however, we have no ways to tell if our changes were indeed enhancements. How do we know that search engine's quality haven't deteriorated because of our changes? How do we know if cosine scoring is better than okapi scoring? How can we check if applying language models instead of vector-space models is beneficial? \n",
        "\n",
        "All we need is a way to ***evaluate*** our search engine. We will consider some of the popular evaluation techniques:\n",
        "\n",
        "1. Mean Average Precision\n",
        "2. Normalized Discounted Cumulative Gain (NDCG)\n",
        "3. 11-Point Interpolated Average\n",
        "\n",
        "We will apply them in the context of ranking with language models and will compare two ways of smoothing: additive and Jelinek-Mercer smoothing.  \n",
        "\n",
        "It's best to go through the [book](https://nlp.stanford.edu/IR-book/pdf/irbookonlinereading.pdf) *chapter 8*, concretely, *8.4* to understand the key concepts of this lab. Here we will only present some excerpts from it.\n"
      ]
    },
    {
      "cell_type": "markdown",
      "metadata": {
        "id": "5h9zbyjNL6PB",
        "colab_type": "text"
      },
      "source": [
        "## Data\n",
        "\n",
        "There is a number of ways to evaluate a search engine, however, all of them require so called relevance judgements - human assigned scores of relevance between query-doc_id pairs. We will use Cranfield relevance judgements collection, download it from [here](https://drive.google.com/drive/folders/1u6dSUqdrXsckSHmVHNNE27eDiajMWLl2?usp=sharing). \n",
        "\n",
        "This was the pioneering test collection in allowing precise quantitative measures of information retrieval effectiveness, but is nowadays too small for anything but the most elementary pilot experiments (which is exactly what we are doing here). Collected in the United Kingdom starting in the late 1950s, it contains 1400 abstracts of aerodynamics journal articles, a set of 225 queries, and exhaustive relevance judgments of all (query, document) pairs.\n",
        "\n",
        "![image.png](attachment:image.png)\n",
        "\n",
        "\n",
        "It comes in a json format, the detailed description is available in the readme file.\n"
      ]
    },
    {
      "cell_type": "code",
      "metadata": {
        "id": "pTS_YgY7L6PB",
        "colab_type": "code",
        "colab": {}
      },
      "source": [
        "import json\n",
        "\n",
        "def read_cranfield(path):\n",
        "    with open(\"cranqrel.json\", \"r\") as read_file:\n",
        "      rele = json.load(read_file)\n",
        "    with open(\"cranfield_data.json\", \"r\") as read_file:\n",
        "      cranfield = json.load(read_file)\n",
        "    with open(\"cran.qry.json\", \"r\") as read_file:\n",
        "      qry = json.load(read_file)\n",
        "    # TODO: read the cranfield data\n",
        "    # relevance should be a dictionary, query_id:[(relevant_doc_id1, score1), (relevant_doc_id2, score2), ...]\n",
        "    documents = {}\n",
        "    queries = {}\n",
        "    relevance = {}\n",
        "    for i in rele:\n",
        "      # relevance[i['query_num']] = i['position']\n",
        "      relevance.setdefault(int(i['query_num']),[]).append((int(i['id']),i['position']))\n",
        "    for i in qry:\n",
        "      queries[i['query number']] = i['query']\n",
        "    for i in cranfield:\n",
        "      documents[i['id']] = i['body']\n",
        "    return documents, queries, relevance\n",
        "\n",
        "cran_orig_path = 'cranfield_data/'\n",
        "documents, queries, relevance = read_cranfield(cran_orig_path)"
      ],
      "execution_count": 0,
      "outputs": []
    },
    {
      "cell_type": "markdown",
      "metadata": {
        "id": "8gUgoh-xL6PF",
        "colab_type": "text"
      },
      "source": [
        "### Test "
      ]
    },
    {
      "cell_type": "code",
      "metadata": {
        "id": "rZSJbLi3L6PG",
        "colab_type": "code",
        "colab": {}
      },
      "source": [
        "assert len(documents) == 1400 \n",
        "assert len(relevance) == 225"
      ],
      "execution_count": 0,
      "outputs": []
    },
    {
      "cell_type": "markdown",
      "metadata": {
        "id": "2MHsHOnmL6PI",
        "colab_type": "text"
      },
      "source": [
        "## 1. Mean Average Precision\n",
        "\n",
        "The most standard metric among the TREC community is *Mean Average Precision* *(MAP)*, which provides a single-figure measure of quality across recall levels. Among evaluation measures, MAP has been shown to have especially good discrimination and stability. For a single information need, Average Precision is the average of the precision value obtained for the set of top k documents existing\n",
        "after each relevant document is retrieved, and this value is then averaged over information needs (queries). That is, if the set of relevant documents for an information need q<sub>j</sub> ∈ Q is {d<sub>1</sub>, . . . d<sub>m<sub>j</sub></sub>} and R<sub>jk</sub> is the set of ranked retrieval results from the top result until you get to document d<sub>k</sub>, then\n",
        "\n",
        "![](https://i.imgur.com/EGQMHVq.png)\n",
        "\n",
        "Implement this metric in the `mean_avg_precision` function.\n"
      ]
    },
    {
      "cell_type": "code",
      "metadata": {
        "id": "zEGFCPJ2L6PJ",
        "colab_type": "code",
        "colab": {}
      },
      "source": [
        "def mean_avg_precision(search_results, relevance):\n",
        "    # TODO: calculate MAP score for search results, treating relevance judgments as binary - either relevant or not.\n",
        "    #\n",
        "    # search_results: list of lists of ranked results for each query [[doc_id1, doc_id2,...], ...]\n",
        "    # note that for tests to pass, the i-th result in search_results should correspond to (i+1)-th query_id.  \n",
        "    # relevance: dict, query_id:[(relevant_doc_id1, score1), (relevant_doc_id2, score2), ...]       \n",
        "    \n",
        "\n",
        "    overall_prec = 0\n",
        "    for counte, b in enumerate (search_results):\n",
        "      # list of relevant search results\n",
        "      results = []\n",
        "      for g in relevance[counte+1]:\n",
        "        results.append(g[0])\n",
        "      # number of elements after relevant\n",
        "      counter = 0\n",
        "      precision = 0\n",
        "      right_finding = 0\n",
        "\n",
        "      for g in b:\n",
        "        counter+=1\n",
        "        if g in results:\n",
        "          right_finding+=1\n",
        "          precision += right_finding/counter\n",
        "      overall_prec+=precision/len(results)\n",
        "    overall_prec=overall_prec/len(search_results)\n",
        "    \n",
        "    return overall_prec\n"
      ],
      "execution_count": 0,
      "outputs": []
    },
    {
      "cell_type": "markdown",
      "metadata": {
        "id": "9lX5_mPSL6PL",
        "colab_type": "text"
      },
      "source": [
        "### 1.1 Test"
      ]
    },
    {
      "cell_type": "code",
      "metadata": {
        "id": "XWQZ5F2HL6PL",
        "colab_type": "code",
        "outputId": "e742ad57-afb1-4337-9859-c91901fcba48",
        "colab": {
          "base_uri": "https://localhost:8080/",
          "height": 34
        }
      },
      "source": [
        "import numpy as np\n",
        "\n",
        "test_relevance = {1: [(9, 1), (1, 2), (8, 3)], 2: [(5, 1), (9, 2), (6, 3)], \n",
        "                  3: [(9, 1), (4, 2), (6, 3)], 4: [(10, 1), (4, 2), (7, 3)], \n",
        "                  5: [(4, 1), (2, 2), (8, 3)], 6: [(2, 1), (9, 2), (4, 3)], \n",
        "                  7: [(1, 1), (2, 2), (3, 3)], 8: [(3, 1), (2, 2), (6, 3)], \n",
        "                  9: [(1, 1), (4, 2), (3, 3)], 10: [(10, 1), (7, 2), (8, 3)]}\n",
        "test_results = [[4, 5, 3, 6, 1, 2, 8, 9, 10, 7], [7, 5, 6, 3, 1, 8, 9, 4, 2, 10], \n",
        "                [8, 3, 4, 5, 9, 6, 1, 10, 2, 7], [4, 5, 7, 3, 6, 10, 1, 9, 2, 8], \n",
        "                [4, 8, 3, 5, 6, 7, 2, 1, 10, 9], [9, 7, 6, 5, 2, 4, 10, 1, 3, 8], \n",
        "                [3, 1, 5, 2, 10, 6, 7, 9, 8, 4], [9, 2, 4, 10, 8, 3, 7, 6, 1, 5], \n",
        "                [3, 4, 6, 1, 5, 10, 7, 2, 8, 9], [8, 10, 4, 1, 3, 7, 5, 6, 9, 2]]\n",
        "\n",
        "\n",
        "map_test = mean_avg_precision(test_results, test_relevance)\n",
        "print(\"map_test\", map_test)\n",
        "assert np.isclose(map_test, 0.646, atol=1e-03)\n",
        "assert mean_avg_precision(test_results[:5], test_relevance) > mean_avg_precision(test_results[5:10], test_relevance)"
      ],
      "execution_count": 77,
      "outputs": [
        {
          "output_type": "stream",
          "text": [
            "map_test 0.6464285714285715\n"
          ],
          "name": "stdout"
        }
      ]
    },
    {
      "cell_type": "markdown",
      "metadata": {
        "id": "XLdI0JJWL6PO",
        "colab_type": "text"
      },
      "source": [
        "## 2. Normalized Discounted Cumulative Gain\n",
        "\n",
        "There is also so called NDCG metric, which is designed for situations of non-binary notions of relevance. It is evaluated over some number *k* of top search results (in our case we will evaluate over the whole dataset, since it is small). \n",
        "\n",
        "For a set of queries Q, let *R(j,d)* be the relevance score assessors gave to document *d* for query *j*. Then,\n",
        "\n",
        "![](https://i.imgur.com/LLogCYa.png)\n",
        "\n",
        "where Z<sub>kj</sub> is a normalization factor calculated to make it so that a perfect ranking’s NDCG at *k* for query *j* is 1. In other words, we divide calculated DCG score by ideal DCG score. \n",
        "\n",
        "Implement this metric in `NDCG` function."
      ]
    },
    {
      "cell_type": "code",
      "metadata": {
        "id": "RCwuRwf_oyTS",
        "colab_type": "code",
        "colab": {}
      },
      "source": [
        "#fix score\n",
        "test_relevance_n = dict(test_relevance)\n",
        "for key,items in test_relevance_n.items():\n",
        "  for numb, element in enumerate(items):\n",
        "    items[numb] = (element[0],abs(element[1]-5))"
      ],
      "execution_count": 0,
      "outputs": []
    },
    {
      "cell_type": "code",
      "metadata": {
        "id": "Vx_CshT8L6PP",
        "colab_type": "code",
        "colab": {}
      },
      "source": [
        "import math \n",
        "\n",
        "#fixed test relevance\n",
        "test_relevance_n = dict(test_relevance)\n",
        "for key,items in test_relevance_n.items():\n",
        "  for numb, element in enumerate(items):\n",
        "    items[numb] = (element[0],abs(element[1]-5))\n",
        "\n",
        "\n",
        "def NDCG(search_results, relevance):\n",
        "    overall_prec = 0\n",
        "\n",
        "    for counte, b in enumerate (search_results):\n",
        "      # list of relevant search results\n",
        "      results = []\n",
        "      ranks = []\n",
        "      for g in relevance[counte+1]:\n",
        "        results.append(g[0])\n",
        "        ranks.append(g[1])\n",
        "      ranks.sort(reverse=True)\n",
        "\n",
        "      # number of elements after relevant\n",
        "      counter = 0\n",
        "      precision = 0\n",
        "      for g in b:\n",
        "        counter+=1\n",
        "        if g in results:\n",
        "          position = results.index(g)\n",
        "          precision+=((2** relevance[counte+1][position][1]) - 1)/math.log2(counter+1)\n",
        "      #calculate normalizer and use it\n",
        "      normalizer = 0\n",
        "      counter = 0\n",
        "      for element in ranks:\n",
        "        counter+=1\n",
        "        normalizer+=((2** element) - 1)/math.log2(counter+1)\n",
        "      overall_prec+=precision/normalizer\n",
        "  \n",
        "\n",
        "\n",
        "\n",
        "    overall_prec=overall_prec/len(search_results)\n",
        "    \n",
        "    return overall_prec  \n",
        "\n",
        "    # TODO: compute NDCG score for search results. Here relevance is not considered as binary - the bigger\n",
        "    # the judgement score is, the more relevant is the document to a query. Because in our cranfield dataset relevance\n",
        "    # judgements are presented in a different way (1 is most relevant, 4 is least), we will need to smth with it. \n",
        "    # The simplest is to invert it, replacing each score with (5-score). For example, if the score was 2, it becomes 5-2=3.\n",
        "    # To find normalization factor for each query, think in this direction - for this particular query what would be an\n",
        "    # ideal DCG score? What documents should have (ideally) been returned by the search engine to maximize the DCG score?\n",
        "    # When you find it, just normalize the real DCG score by ideal DCG score, that's it.\n",
        "    #\n",
        "    # search_results: list of lists of ranked results for each query [[doc_id1, doc_id2,...], ...]\n",
        "    # note that for tests to pass, the i-th result in search_results should correspond to (i+1)-th query_id.  \n",
        "    # relevance: dict, query_id:[(relevant_doc_id1, score1), (relevant_doc_id2, score2), ...]       \n",
        "    "
      ],
      "execution_count": 0,
      "outputs": []
    },
    {
      "cell_type": "code",
      "metadata": {
        "id": "os5woheu-DOf",
        "colab_type": "code",
        "colab": {
          "base_uri": "https://localhost:8080/",
          "height": 34
        },
        "outputId": "08b9c305-2599-42b4-c7ff-d4740cd64385"
      },
      "source": [
        "li = []\n",
        "li.extend([1,2,1,5,2,6,2])\n",
        "li.sort(reverse=True)\n",
        "li"
      ],
      "execution_count": 110,
      "outputs": [
        {
          "output_type": "execute_result",
          "data": {
            "text/plain": [
              "[6, 5, 2, 2, 2, 1, 1]"
            ]
          },
          "metadata": {
            "tags": []
          },
          "execution_count": 110
        }
      ]
    },
    {
      "cell_type": "markdown",
      "metadata": {
        "id": "cDwcpD0lL6PW",
        "colab_type": "text"
      },
      "source": [
        "### 2.1 Test"
      ]
    },
    {
      "cell_type": "code",
      "metadata": {
        "id": "5t89F7u_L6PX",
        "colab_type": "code",
        "outputId": "f25470f4-862c-4e1e-ebf1-7134415dd47f",
        "colab": {
          "base_uri": "https://localhost:8080/",
          "height": 34
        }
      },
      "source": [
        "ndcg_test = NDCG(test_results, test_relevance_n)\n",
        "print(\"ndcg_test\", ndcg_test)\n",
        "assert np.isclose(ndcg_test, 0.640, atol=1e-03)\n",
        "assert NDCG(test_results[:5], test_relevance_n) < NDCG(test_results[5:10], test_relevance_n)"
      ],
      "execution_count": 215,
      "outputs": [
        {
          "output_type": "stream",
          "text": [
            "ndcg_test 0.6409675295633275\n"
          ],
          "name": "stdout"
        }
      ]
    },
    {
      "cell_type": "markdown",
      "metadata": {
        "id": "FlUo72MwL6Pa",
        "colab_type": "text"
      },
      "source": [
        "## 3. 11-Point Interpolated Average (Bonus task)\n",
        "\n",
        "In a ranked retrieval context, appropriate sets of retrieved documents are naturally given by the top k retrieved documents. For each such set, precision and recall values can be plotted to give a precision-recall curve, such as this one (blue line):\n",
        "\n",
        "![](https://i.imgur.com/QnvDLAJ.png)\n",
        "\n",
        "Precision-recall curves have a distinctive saw-tooth shape: if the *(k + 1)<sup>th</sup>* document retrieved is nonrelevant then recall is the same as for the top k documents, but precision has dropped. If it is relevant, then both precision and recall increase, and the curve jags up and to the right.\n",
        "\n",
        "It is often useful to remove these jiggles and the standard way to do this is with an *interpolated precision*: the interpolated precision *p<sub>interp</sub>* at a certain recall level *r* is defined as the highest precision found for any recall level *r′* ≥ *r*:\n",
        "\n",
        "![](https://i.imgur.com/GMl2rQw.png)\n",
        "\n",
        "The justification is that almost anyone would be prepared to look at a few more documents if it would increase the percentage of the viewed set that were relevant (that is, if the precision of the larger set is higher). Interpolated precision is shown by a red line in the figure above.\n",
        "\n",
        "Examining this information for a single query may be useful, but usually we are more interested in a composite metrics, which will score over all test queries. The traditional way of doing this is the *11-point interpolated average*. For each information need, the interpolated precision is measured at the 11 recall levels of 0.0, 0.1, 0.2, . . . , 1.0. Then we average interpolated precision over all queries in the test collection and plot, like here:\n",
        "\n",
        "![](https://i.imgur.com/6wDmtp2.png)\n",
        "\n",
        "\n",
        "Plotting a number of such graphs for different versions of search engine on the same plot helps to compare their performance.\n",
        "\n",
        "You need to incorporate this logic into `eleven_points_interpolated_avg` function. Break it down to subfuctions as it seems necessary to you."
      ]
    },
    {
      "cell_type": "code",
      "metadata": {
        "id": "9Qf2SEGBL6Pa",
        "colab_type": "code",
        "colab": {}
      },
      "source": [
        "import numpy as np\n",
        "import matplotlib.pyplot as plt\n",
        "\n",
        "def eleven_points_interpolated_avg(search_results, relevance, plot=True):\n",
        "    # TODO: return 11-points interpolated average over all queries. Refer to chapter 8.4 for explanation.\n",
        "    # First calculate values of precision-recall curve for each query, interpolate them, and average over all queries.\n",
        "    # This function is intended to use when for each query all documents are scored until the last relevant element\n",
        "    # is met. Treats relevance judgments as binary - either relevant or not.\n",
        "    # note that for tests to pass, the i-th result in search_results should correspond to (i+1)-th query_id.\n",
        "    #\n",
        "    # search_results: list of lists of ranked results for each query [[doc_id1, doc_id2,...], ...]\n",
        "    # note that for tests to pass, the i-th result in search_results should correspond to (i+1)-th query_id.  \n",
        "    # relevance: dict, query_id:[(relevant_doc_id1, score1), (relevant_doc_id2, score2), ...]\n",
        "    # return: interpolated_avg, list of 11 values    \n",
        "    \n",
        "    return []"
      ],
      "execution_count": 0,
      "outputs": []
    },
    {
      "cell_type": "markdown",
      "metadata": {
        "id": "7cnqL4PFL6Pz",
        "colab_type": "text"
      },
      "source": [
        "### 3.1  Test"
      ]
    },
    {
      "cell_type": "code",
      "metadata": {
        "id": "I7jcNo_UL6P0",
        "colab_type": "code",
        "outputId": "5e804fce-5e32-4680-f93a-3c4d44c618aa",
        "colab": {}
      },
      "source": [
        "eleven_test = eleven_points_interpolated_avg(test_results, test_relevance, plot=True)\n",
        "assert all(eleven_test[k] >= eleven_test[k+1] for k in range(len(eleven_test)-1))"
      ],
      "execution_count": 0,
      "outputs": [
        {
          "output_type": "display_data",
          "data": {
            "image/png": "[encoded data removed]",
            "text/plain": [
              "<Figure size 432x288 with 1 Axes>"
            ]
          },
          "metadata": {
            "tags": [],
            "needs_background": "light"
          }
        }
      ]
    },
    {
      "cell_type": "markdown",
      "metadata": {
        "id": "YmyfuDslL6P5",
        "colab_type": "text"
      },
      "source": [
        "## 4. Evaluation\n",
        "\n",
        "Now we want to apply these metrics and compare two ways of smoothing in ranking with language models. Since we only have relevance scores for Cranfield data, we will run search and do evaluations based on it.\n",
        "\n",
        "### LM ranking"
      ]
    },
    {
      "cell_type": "code",
      "metadata": {
        "id": "5N2YGUIdL6P6",
        "colab_type": "code",
        "colab": {}
      },
      "source": [
        "# TODO: copy here your lm_rank_documents function from the last lab\n",
        "\n",
        "import numpy as np\n",
        "\n",
        "def lm_rank_documents(query, tdm, terms_list, smoothing='additive', param=0.001):\n",
        "    # TODO: score each document in tdm using this document's language model\n",
        "    # implement two types of smoothing. Looks up term frequencies in tdm\n",
        "    # return document scores in a convenient form\n",
        "    # param is alpha for additive / lambda for jelinek-mercer\n",
        "    \"\"\"\n",
        "    :param query: dict, term:count            \n",
        "    :param tdm: term-document matrix\n",
        "    :param terms_list: vocabulary list\n",
        "    :param smoothing: which smoothing to apply, either 'additive' or 'jelinek-mercer'\n",
        "    :param param: alpha for additive / lambda for jelinek-mercer\n",
        "    :return: list of scores, list of doc_ids sorted by their scores \n",
        "    \"\"\"\n",
        "    n_docs = tdm.shape[0]\n",
        "    doc_lengths = tdm.sum(axis=1)\n",
        "    len_collection = np.sum(doc_lengths)\n",
        "    scores = np.zeros(n_docs)\n",
        "    for term in query.keys():\n",
        "        # check if term exists\n",
        "        if term in terms_list:\n",
        "            # get term's id\n",
        "            term_id = terms_list.index(term)\n",
        "        else:\n",
        "            continue\n",
        "        query_tf = query[term]\n",
        "        # calculate collection frequency of a term\n",
        "        collection_tf = np.sum(tdm[:, term_id])\n",
        "        for doc_id in range(n_docs):\n",
        "            doc_tf = tdm[doc_id, term_id]\n",
        "            # apply smoothing of any\n",
        "            if smoothing == 'additive':\n",
        "                doc_score_factor = (doc_tf + param) / (doc_lengths[doc_id] + param*len(terms_list))\n",
        "            elif smoothing == 'jelinek':\n",
        "                doc_score_factor = param*doc_tf/doc_lengths[doc_id] + (1-param)*collection_tf/len_collection\n",
        "            else:\n",
        "                doc_score_factor = doc_tf/doc_lengths[doc_id]\n",
        "            doc_score_factor = doc_score_factor**query_tf\n",
        "\n",
        "            if doc_id not in scores:\n",
        "                scores[doc_id] = 1\n",
        "            # accumulate scores\n",
        "            scores[doc_id] *= doc_score_factor\n",
        "    # sort doc_ids by scores\n",
        "    sorted_doc_ids = np.argsort(-scores)\n",
        "    return scores, sorted_doc_ids\n",
        "  \n",
        "def prepare_query(raw_query):\n",
        "    # lower-case, remove punctuation and stopwords\n",
        "    stop_words = list(string.punctuation) + stopwords.words('english')\n",
        "    return Counter([i for i in word_tokenize(raw_query.lower()) if i not in stop_words])"
      ],
      "execution_count": 0,
      "outputs": []
    },
    {
      "cell_type": "code",
      "metadata": {
        "id": "LbChXXm2EH0r",
        "colab_type": "code",
        "colab": {
          "base_uri": "https://localhost:8080/",
          "height": 84
        },
        "outputId": "b2904125-e0ac-488e-fd2d-bd07e8f2d414"
      },
      "source": [
        "#TDM\n",
        "import string\n",
        "from nltk.corpus import stopwords \n",
        "from nltk.tokenize import word_tokenize \n",
        "from sklearn.feature_extraction.text import CountVectorizer\n",
        "import nltk\n",
        "nltk.download('stopwords')\n",
        "nltk.download('punkt')\n",
        "from collections import Counter\n",
        "\n",
        "\n",
        "vectorizer = CountVectorizer(stop_words='english')\n",
        "counts_data = vectorizer.fit_transform(documents.values())\n",
        "terms = vectorizer.get_feature_names()\n",
        "\n",
        "query = []\n",
        "for g in (queries.items()):\n",
        "  query.append(g[1])"
      ],
      "execution_count": 177,
      "outputs": [
        {
          "output_type": "stream",
          "text": [
            "[nltk_data] Downloading package stopwords to /root/nltk_data...\n",
            "[nltk_data]   Package stopwords is already up-to-date!\n",
            "[nltk_data] Downloading package punkt to /root/nltk_data...\n",
            "[nltk_data]   Unzipping tokenizers/punkt.zip.\n"
          ],
          "name": "stdout"
        }
      ]
    },
    {
      "cell_type": "code",
      "metadata": {
        "id": "Eyr13vBNbfMr",
        "colab_type": "code",
        "colab": {}
      },
      "source": [
        "#fix relevance\n",
        "relevance_n = dict(relevance)\n",
        "for key,items in test_relevance_n.items():\n",
        "  for numb, element in enumerate(items):\n",
        "    items[numb] = (element[0],abs(element[1]-5))"
      ],
      "execution_count": 0,
      "outputs": []
    },
    {
      "cell_type": "code",
      "metadata": {
        "id": "BjCgGZlHKhZJ",
        "colab_type": "code",
        "colab": {}
      },
      "source": [
        "#calculate lm_rank\n",
        "jelly = []\n",
        "additive = []\n",
        "for dust in query[:210]:\n",
        "  z = prepare_query(dust)\n",
        "  g = lm_rank_documents(z, counts_data, terms, smoothing='additive', param=0.001)\n",
        "  additive.append([x for _,x in sorted(zip(g[0],g[1]),reverse=True)][:100])\n",
        "  g = lm_rank_documents(z, counts_data, terms, smoothing='jelinek', param=0.001)\n",
        "  jelly.append([x for _,x in sorted(zip(g[0],g[1]),reverse=True)][:100])"
      ],
      "execution_count": 0,
      "outputs": []
    },
    {
      "cell_type": "code",
      "metadata": {
        "id": "2H037AHCTX_0",
        "colab_type": "code",
        "colab": {}
      },
      "source": [
        "\n",
        "jMAP = mean_avg_precision(jelly, relevance_n)\n",
        "addMAP = mean_avg_precision(additive, relevance_n)\n",
        "\n",
        "\n",
        "jNDCG =NDCG(jelly, relevance_n)\n",
        "addNDCG = NDCG(additive, relevance_n)"
      ],
      "execution_count": 0,
      "outputs": []
    },
    {
      "cell_type": "markdown",
      "metadata": {
        "id": "T0pbcutJL6QB",
        "colab_type": "text"
      },
      "source": [
        "### Additive smoothing VS Jelinek-Mercer smooting"
      ]
    },
    {
      "cell_type": "code",
      "metadata": {
        "id": "LcxQNCW5L6QB",
        "colab_type": "code",
        "outputId": "635f1b91-dae7-4e90-f2be-fa13fcea9162",
        "colab": {
          "base_uri": "https://localhost:8080/",
          "height": 118
        }
      },
      "source": [
        "# TODO: compare these two types of smoothing with evaluation metrics you've just impemented. Follow the output format given. \n",
        "print (\"Evaluation results for additive smoothing:\")\n",
        "print (\"MAP\",addMAP)\n",
        "print (\"NDCG\",addNDCG)\n",
        "print (\"Evaluation results for jelinek-mercer smoothing:\")\n",
        "print (\"MAP\",jMAP)\n",
        "print (\"NDCG\",jNDCG)"
      ],
      "execution_count": 254,
      "outputs": [
        {
          "output_type": "stream",
          "text": [
            "Evaluation results for additive smoothing:\n",
            "MAP 0.0035222725452724165\n",
            "NDCG 0.022675757712156245\n",
            "Evaluation results for jelinek-mercer smoothing:\n",
            "MAP 0.003977674979927202\n",
            "NDCG 0.020259763076952854\n"
          ],
          "name": "stdout"
        }
      ]
    },
    {
      "cell_type": "code",
      "metadata": {
        "id": "yo1x7mjXbuY4",
        "colab_type": "code",
        "colab": {}
      },
      "source": [
        ""
      ],
      "execution_count": 0,
      "outputs": []
    }
  ]
}