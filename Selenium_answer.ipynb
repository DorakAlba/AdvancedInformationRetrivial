{
 "cells": [
  {
   "cell_type": "markdown",
   "metadata": {},
   "source": [
    "# Parse me if you can #\n",
    "\n",
    "Sometimes when crawling we have to parse websites that turn out to be SaaS - i.e., there is a special JS application which renders documents and which is downloaded first. Therefore, data that is to be rendered initially comes in a proprietary format. One of the examples is Google Drive. Last time we downladed and parsed some files from GDrive, however, we didn't parse GDrive-specific file formats, such as google sheets or google slides.\n",
    "\n",
    "Today we will learn to obtain and parse such data using Selenium - a special framework for testing web-applications.\n",
    "\n",
    "## 1. Getting started\n",
    "\n",
    "Let's try to load and parse the page the way we did before:"
   ]
  },
  {
   "cell_type": "code",
   "execution_count": 1,
   "metadata": {
    "scrolled": true
   },
   "outputs": [
    {
     "name": "stdout",
     "output_type": "stream",
     "text": [
      "Не удалось открыть файл, поскольку в вашем браузере отключено использование JavaScript. Включите его и перезагрузите страницу.Некоторые функции PowerPoint не поддерживаются в Google Презентациях. Они будут удалены, если вы измените документ.Подробнее…6. Approximate nearest neighbours search 2. Trees   Смотреть  Открыть доступВойтиИспользуемая вами версия браузера больше не поддерживается. Установите поддерживаемую версию браузера.Закрытьdocument.getElementById('docs-unsupported-browser-bar').addEventListener('click', function () {this.parentNode.parentNode.removeChild(this.parentNode);return false;});ФайлИзменитьВидСправкаСпециальные возможностиОтладкаНесохраненные изменения: ДискПоследние изменения      Специальные возможности  Только просмотр     DOCS_timing['che'] = new Date().getTime();DOCS_timing['chv'] = new Date().getTime();Презентация в виде HTML(function(){/*\n",
      "\n",
      " Copyright The Closure Library Authors.\n",
      " SPDX-License-Identifier: Apache-2.0\n",
      "*/\n",
      "var a=this||self;function b(){this.a=t\n"
     ]
    }
   ],
   "source": [
    "import requests\n",
    "from bs4 import BeautifulSoup\n",
    "resp = requests.get(\"https://docs.google.com/presentation/d/1LuZvz3axBD8UuHLagdv0EbhsGEWJmpd7gN5KjwYCp9Y/edit?usp=sharing\")\n",
    "soup = BeautifulSoup(resp.text, 'lxml')\n",
    "print(soup.body.text[:1000])"
   ]
  },
  {
   "cell_type": "markdown",
   "metadata": {},
   "source": [
    "As we see, the output is not what we expect. So, what can we do when a page is not being loaded right away, but is rather rendered by a script? Browser engines can help us get data. Let's try to load the same web-page, but do it in a different way: let's give some time to a browser to load the scripts and run them; and then will work with DOM (Document Object Model), but will get it from browser engine itself, not from BeautifulSoup.\n",
    "\n",
    "Where do we get browser engine from? Simply installing a browser will do the thing. How do we send commands to it from code and retrieve DOM? Service applications called drivers will interpret out commands and translate them into browser actions.\n",
    "\n",
    "\n",
    "For each browser engine suport you will need to:\n",
    "1. install browser itself;\n",
    "2. download 'driver' - binary executable, which passed commands from selenium to browser. E.g. [Gecko == Firefox](https://github.com/mozilla/geckodriver/releases), [ChromeDriver](http://chromedriver.storage.googleapis.com/index.html);\n",
    "3. unpack driver into a folder under PATH environment variable. Or specify exact binary location."
   ]
  },
  {
   "cell_type": "markdown",
   "metadata": {},
   "source": [
    "### Download driver\n",
    "\n",
    "And place it in any folder or under PATH env. variable."
   ]
  },
  {
   "cell_type": "markdown",
   "metadata": {},
   "source": [
    "### Install selenium"
   ]
  },
  {
   "cell_type": "code",
   "execution_count": 2,
   "metadata": {
    "scrolled": true
   },
   "outputs": [
    {
     "name": "stdout",
     "output_type": "stream",
     "text": [
      "Requirement already up-to-date: selenium in c:\\soft\\anaconda3\\lib\\site-packages (3.141.0)\n",
      "Requirement already satisfied, skipping upgrade: urllib3 in c:\\soft\\anaconda3\\lib\\site-packages (from selenium) (1.24.2)\n"
     ]
    }
   ],
   "source": [
    "!pip install -U selenium"
   ]
  },
  {
   "cell_type": "code",
   "execution_count": 3,
   "metadata": {},
   "outputs": [],
   "source": [
    "from selenium import webdriver"
   ]
  },
  {
   "cell_type": "markdown",
   "metadata": {},
   "source": [
    "### Launch browser\n",
    "\n",
    "This will open browser window"
   ]
  },
  {
   "cell_type": "code",
   "execution_count": 4,
   "metadata": {},
   "outputs": [],
   "source": [
    "# browser = webdriver.Firefox()\n",
    "# or explicitly\n",
    "browser = webdriver.Chrome(\n",
    "    executable_path='C:\\Program Files (x86)\\Google\\Chrome\\Application\\chromedriver.exe', \n",
    "#     firefox_binary='C:/Program Files/Mozilla Firefox/firefox.exe'\n",
    ")"
   ]
  },
  {
   "cell_type": "markdown",
   "metadata": {},
   "source": [
    "### Download the page"
   ]
  },
  {
   "cell_type": "code",
   "execution_count": 5,
   "metadata": {},
   "outputs": [
    {
     "name": "stdout",
     "output_type": "stream",
     "text": [
      "Elements found: 110\n",
      "What if just a silly approach: Forests\n",
      "of\n",
      "search\n",
      "trees\n",
      "What if a smart approach: Forests of search trees\n"
     ]
    }
   ],
   "source": [
    "# navigate to page\n",
    "browser.get('http://tiny.cc/00dhkz')\n",
    "browser.implicitly_wait(5)  # wait 5 seconds\n",
    "\n",
    "# select all text parts from document\n",
    "elements = browser.find_elements_by_css_selector(\"g.sketchy-text-content-text\")\n",
    "# note that if number differs from launch to launch this means better extend wait time\n",
    "print(\"Elements found:\", len(elements))\n",
    "\n",
    "# oh no! It glues all the words!\n",
    "print(\"What if just a silly approach:\", elements[0].text)\n",
    "\n",
    "# GDrive stores all text blocks word-by-word\n",
    "subnodes = elements[0].find_elements_by_css_selector(\"text\")\n",
    "text = \" \".join(n.text for n in subnodes)\n",
    "print(\"What if a smart approach:\", text)"
   ]
  },
  {
   "cell_type": "code",
   "execution_count": 6,
   "metadata": {},
   "outputs": [],
   "source": [
    "browser.quit()"
   ]
  },
  {
   "cell_type": "markdown",
   "metadata": {},
   "source": [
    "### Problems\n",
    "- Too slow, wait for browser to open, browser to render"
   ]
  },
  {
   "cell_type": "markdown",
   "metadata": {},
   "source": [
    "### Headless mode\n",
    "Browsers (at least [FF](https://developer.mozilla.org/en-US/docs/Mozilla/Firefox/Headless_mode), [Chrome](https://intoli.com/blog/running-selenium-with-headless-chrome/), IE) have headless mode - no window rendering and so on. Means it should work much faster!"
   ]
  },
  {
   "cell_type": "code",
   "execution_count": 196,
   "metadata": {},
   "outputs": [],
   "source": [
    "options = webdriver.ChromeOptions()\n",
    "\n",
    "options.add_argument('headless')\n",
    "options.add_argument('window-size=1200x600')\n",
    "driver = webdriver.Chrome('C:\\Program Files (x86)\\Google\\Chrome\\Application\\chromedriver.exe',options=options)"
   ]
  },
  {
   "cell_type": "code",
   "execution_count": 130,
   "metadata": {},
   "outputs": [
    {
     "name": "stdout",
     "output_type": "stream",
     "text": [
      "Elements found: 112\n",
      "What if just a silly approach: Forests\n",
      "of\n",
      "search\n",
      "trees\n",
      "What if a smart approach: Forests of search trees\n"
     ]
    }
   ],
   "source": [
    "## SAME CODE\n",
    "\n",
    "# navigate to page\n",
    "driver.get('http://tiny.cc/00dhkz')\n",
    "driver.implicitly_wait(5)  # wait 5 seconds\n",
    "\n",
    "# select all text parts from document\n",
    "elements = driver.find_elements_by_css_selector(\"g.sketchy-text-content-text\")\n",
    "# note that if number differs from launch to launch this means better extend wait time\n",
    "print(\"Elements found:\", len(elements))\n",
    "\n",
    "# oh no! It adds NEW LINE. Behavior differs!!!!\n",
    "print(\"What if just a silly approach:\", elements[0].text)\n",
    "# GDrive stores all text blocks word-by-word\n",
    "subnodes = elements[0].find_elements_by_css_selector(\"text\")\n",
    "text = \" \".join(n.text for n in subnodes)\n",
    "print(\"What if a smart approach:\", text)"
   ]
  },
  {
   "cell_type": "code",
   "execution_count": 197,
   "metadata": {},
   "outputs": [],
   "source": [
    "driver.quit()"
   ]
  },
  {
   "cell_type": "code",
   "execution_count": 191,
   "metadata": {},
   "outputs": [],
   "source": [
    "slides_text = dict() # dictionary slide_num : slide_text\n",
    "img_list = [] # list of image urls \n",
    "current_page = 0\n",
    "\n",
    "driver = webdriver.Chrome('C:\\Program Files (x86)\\Google\\Chrome\\Application\\chromedriver.exe',options=options)\n",
    "driver.get(\"https://docs.google.com/presentation/d/1UxjGZPPrPTM_3lCa_gWTk8yZI_qNmTKwtMxr8JZQCIc/edit?usp=sharing\")\n",
    "driver.implicitly_wait(5)  # wait 5 seconds\n",
    "\n",
    "current_slide = 0\n",
    "all_slides = driver.find_elements_by_class_name (\"punch-filmstrip-thumbnail\")\n",
    "\n",
    "#Go throuth all slides\n",
    "while True:\n",
    "    #condition to stop\n",
    "    if current_page > (len(all_slides) -1):\n",
    "        break\n",
    "        \n",
    "    all_slides = driver.find_elements_by_class_name (\"punch-filmstrip-thumbnail\")\n",
    "    #scroll to slide\n",
    "    driver.execute_script(\"arguments[0].scrollIntoView();\", all_slides[current_page])\n",
    "    #click on slide\n",
    "    webdriver.ActionChains(driver).move_to_element(all_slides[current_page]).click(all_slides[current_page]).perform()\n",
    "\n",
    "    #preparation for slide\n",
    "    text_list = \"\"\n",
    "    #extract text top\n",
    "    # select all text parts from document\n",
    "    g = driver.find_element_by_id(\"workspace\").find_elements_by_css_selector(\"text\")\n",
    "    text = \" \".join(n.text for n in g)\n",
    "    text_list+=text\n",
    "    #extract text comments\n",
    "    g = driver.find_element_by_id(\"speakernotes-workspace\").find_elements_by_css_selector(\"text\")\n",
    "    text = \" \".join(n.text for n in g)\n",
    "    text_list+=text\n",
    "    #update slides_text\n",
    "    slides_text[current_page] = text\n",
    "    #requred next page\n",
    "    current_page +=1\n",
    "\n",
    "# extract image\n",
    "images = driver.find_elements_by_tag_name('image')\n",
    "for s in range (len(images)):\n",
    "    img_list.append(images[s].get_attribute(\"href\"))\n",
    "    \n",
    "# driver.quit()"
   ]
  },
  {
   "cell_type": "markdown",
   "metadata": {},
   "source": [
    "### NB \n",
    "Note, that browser behavior differs for the same code!"
   ]
  },
  {
   "cell_type": "markdown",
   "metadata": {},
   "source": [
    "## 2.Task \n",
    "Our lectures usually have lot's of links. Here are the links to oviginal versions of the documents.\n",
    "\n",
    "[4. Vector space](https://docs.google.com/presentation/d/1UxjGZPPrPTM_3lCa_gWTk8yZI_qNmTKwtMxr8JZQCIc/edit?usp=sharing)\n",
    "\n",
    "[6. search trees](https://docs.google.com/presentation/d/1LuZvz3axBD8UuHLagdv0EbhsGEWJmpd7gN5KjwYCp9Y/edit?usp=sharing)\n",
    "\n",
    "[7-8. Web basics](https://docs.google.com/presentation/d/1bgsCgpjMcQmrFpblRI6oH9SnG4bjyo5SzSSdKxxHNlg/edit?usp=sharing)\n",
    "\n",
    "Please complete the following tasks:"
   ]
  },
  {
   "cell_type": "markdown",
   "metadata": {},
   "source": [
    "### 2.1 Inverted index for slides with numbers\n",
    "I want to type a word, and it should say which slides of which lecture has this word."
   ]
  },
  {
   "cell_type": "markdown",
   "metadata": {},
   "source": [
    "Loading and parsing text and images from google slides"
   ]
  },
  {
   "cell_type": "code",
   "execution_count": 202,
   "metadata": {
    "scrolled": true
   },
   "outputs": [],
   "source": [
    "def getTextAndImgsFromSlides(url):    \n",
    "    slides_text = dict() # dictionary slide_num : slide_text\n",
    "    img_list = [] # list of image urls \n",
    "    current_page = 0\n",
    "\n",
    "    driver = webdriver.Chrome('C:\\Program Files (x86)\\Google\\Chrome\\Application\\chromedriver.exe',options=options)\n",
    "    driver.get(url)\n",
    "    driver.implicitly_wait(5)  # wait 5 seconds\n",
    "\n",
    "    all_slides = driver.find_elements_by_class_name (\"punch-filmstrip-thumbnail\")\n",
    "    #Go throuth all slides\n",
    "    while True:\n",
    "        #condition to stop\n",
    "        if current_page > (len(all_slides) -1):\n",
    "            break\n",
    "\n",
    "        all_slides = driver.find_elements_by_class_name (\"punch-filmstrip-thumbnail\")\n",
    "        #scroll to slide\n",
    "        driver.execute_script(\"arguments[0].scrollIntoView();\", all_slides[current_page])\n",
    "        #click on slide\n",
    "        webdriver.ActionChains(driver).move_to_element(all_slides[current_page]).click(all_slides[current_page]).perform()\n",
    "\n",
    "        #preparation for slide\n",
    "        text_list = \"\"\n",
    "        #extract text top\n",
    "        # select all text parts from document\n",
    "        g = driver.find_element_by_id(\"workspace\").find_elements_by_css_selector(\"text\")\n",
    "        text = \" \".join(n.text for n in g)\n",
    "        text_list+=text\n",
    "        #extract text comments\n",
    "        g = driver.find_element_by_id(\"speakernotes-workspace\").find_elements_by_css_selector(\"text\")\n",
    "        text = \" \".join(n.text for n in g)\n",
    "        text_list+=text\n",
    "        #update slides_text\n",
    "        slides_text[current_page] = text_list\n",
    "        #requred next page\n",
    "        current_page +=1\n",
    "\n",
    "    # extract image\n",
    "    images = driver.find_elements_by_tag_name('image')\n",
    "    for s in range (len(images)):\n",
    "        img_list.append(images[s].get_attribute(\"href\"))\n",
    "\n",
    "    driver.quit()\n",
    "    return slides_text, img_list"
   ]
  },
  {
   "cell_type": "markdown",
   "metadata": {},
   "source": [
    "Parsing three presentations"
   ]
  },
  {
   "cell_type": "code",
   "execution_count": 206,
   "metadata": {
    "scrolled": true
   },
   "outputs": [],
   "source": [
    "links = [\"https://docs.google.com/presentation/d/1UxjGZPPrPTM_3lCa_gWTk8yZI_qNmTKwtMxr8JZQCIc/edit?usp=sharing\", \n",
    "         \"https://docs.google.com/presentation/d/1LuZvz3axBD8UuHLagdv0EbhsGEWJmpd7gN5KjwYCp9Y/edit?usp=sharing\",\n",
    "         \"https://docs.google.com/presentation/d/1bgsCgpjMcQmrFpblRI6oH9SnG4bjyo5SzSSdKxxHNlg/edit?usp=sharing\"]\n",
    "\n",
    "all_imgs = []\n",
    "all_texts = dict()\n",
    "for i, link in enumerate(links):\n",
    "    texts, imgs = getTextAndImgsFromSlides(link)\n",
    "    all_imgs+=imgs\n",
    "    all_texts.update({i+1:texts})"
   ]
  },
  {
   "cell_type": "markdown",
   "metadata": {},
   "source": [
    "### 2.2 Tests"
   ]
  },
  {
   "cell_type": "code",
   "execution_count": 204,
   "metadata": {},
   "outputs": [
    {
     "name": "stdout",
     "output_type": "stream",
     "text": [
      "35\n",
      "54\n"
     ]
    }
   ],
   "source": [
    "texts, imgs = getTextAndImgsFromSlides('http://tiny.cc/00dhkz')\n",
    "\n",
    "assert len(texts) == 35 # equal to the total number of slides in the presentation \n",
    "print(len(texts))\n",
    "\n",
    "assert len(imgs) > 26 # can be more than that due to visitor icons\n",
    "print(len(imgs))\n",
    "\n",
    "assert any(\"Navigable\" in value for value in texts.values()) # word is on a slide\n",
    "assert any(\"MINUS\" in value for value in texts.values()) # word is in speaker notes"
   ]
  },
  {
   "cell_type": "markdown",
   "metadata": {},
   "source": [
    "Building an inverted index and search using it (boolean retrieval is just ok)"
   ]
  },
  {
   "cell_type": "code",
   "execution_count": 241,
   "metadata": {},
   "outputs": [
    {
     "name": "stderr",
     "output_type": "stream",
     "text": [
      "[nltk_data] Downloading package punkt to\n",
      "[nltk_data]     C:\\Users\\Dorak\\AppData\\Roaming\\nltk_data...\n",
      "[nltk_data]   Package punkt is already up-to-date!\n"
     ]
    }
   ],
   "source": [
    "import nltk\n",
    "nltk.download('punkt')\n",
    "from nltk.tokenize import word_tokenize\n",
    "from nltk.stem import SnowballStemmer\n",
    "\n",
    "class Preprocessor:\n",
    "    def __init__(self):\n",
    "        self.stop_words = {'a', 'an', 'and', 'are', 'as', 'at', 'be', 'by', 'for', 'from', 'has', 'he', 'in', 'is', 'it', 'its',\n",
    "                      'of', 'on', 'that', 'the', 'to', 'was', 'were', 'will', 'with'}\n",
    "        self.ps = nltk.stem.PorterStemmer()\n",
    "\n",
    "    \n",
    "    def tokenize(self, text):\n",
    "        #TODO word tokenize text using nltk lib\n",
    "        \n",
    "        return word_tokenize (text)\n",
    "\n",
    "    \n",
    "    def stem(self, word, stemmer):\n",
    "        #TODO stem word using provided stemmer\n",
    "        stemmed_word = stemmer.stem(word.lower())\n",
    "        return stemmed_word\n",
    "\n",
    "    \n",
    "    def is_apt_word(self, word):\n",
    "        #TODO check if word is appropriate - not a stop word and isalpha, \n",
    "        # i.e consists of letters, not punctuation, numbers, datesа\n",
    "  \n",
    "        if word.isalpha():\n",
    "          if word not in self.stop_words:\n",
    "            return True\n",
    "        return False\n",
    "    def preprocess(self, text):\n",
    "        #TODO combine all previous methods together: tokenize lowercased text \n",
    "        # and stem it, ignoring not appropriate words\n",
    "        tokenized = self.tokenize (text)\n",
    "        filtered = []\n",
    "        for word in tokenized:\n",
    "          word = self.stem(word,self.ps)\n",
    "          if self.is_apt_word(word):\n",
    "            filtered.append(word)\n",
    "        \n",
    "          \n",
    "        return filtered"
   ]
  },
  {
   "cell_type": "code",
   "execution_count": 297,
   "metadata": {},
   "outputs": [],
   "source": [
    "all_text_copy=all_texts.copy()\n",
    "prep = Preprocessor()\n",
    "index = dict()"
   ]
  },
  {
   "cell_type": "code",
   "execution_count": 335,
   "metadata": {},
   "outputs": [],
   "source": [
    "def retrieval (query, index):\n",
    "    postings = []\n",
    "\n",
    "    if query not in index:\n",
    "        return 0\n",
    "    posting = index[query][1:]\n",
    "    # extract document info only\n",
    "    posting = [i[0] for i in posting]\n",
    "    postings.append(posting)\n",
    "    docs = set.intersection(*map(set,postings))\n",
    "    return docs "
   ]
  },
  {
   "cell_type": "code",
   "execution_count": 341,
   "metadata": {},
   "outputs": [
    {
     "data": {
      "text/plain": [
       "['1', '_', '4', '1_15', '1_18', '3_52']"
      ]
     },
     "execution_count": 341,
     "metadata": {},
     "output_type": "execute_result"
    }
   ],
   "source": [
    "index[\"architectur\"]"
   ]
  },
  {
   "cell_type": "code",
   "execution_count": 319,
   "metadata": {},
   "outputs": [],
   "source": [
    "#finder\n",
    "def find(query, index):\n",
    "    text_ids = retrieval(query, index)\n",
    "    return text_ids"
   ]
  },
  {
   "cell_type": "code",
   "execution_count": 299,
   "metadata": {
    "collapsed": true
   },
   "outputs": [
    {
     "name": "stdout",
     "output_type": "stream",
     "text": [
      "['vector', 'space', 'model', 'ml', 'stanislav', 'protasov', 'albina', 'khusainova']\n",
      "['refresh', 'matrix', 'vector', 'space', 'model', 'distribut', 'semant', 'latent', 'space', 'lsa', 'pca', 'svd']\n",
      "['agenda', 'lsa', 'what', 'miss', 'neural', 'network', 'solv', 'embed', 'task', 'dssm', 'bert']\n",
      "['lsa', 'critic', 'speed', 'issu', 'even', 'optim', 'svd', 'slow', 'requir', 'memori', 'cpu', 'time', 'fast', 'random', 'svd', 'facebook', 'altern', 'least', 'squar', 'al', 'distribut', 'stream', 'version', 'model', 'issu', 'pca', 'assum', 'normal', 'data', 'distribut', 'but', 'life', 'complic', 'plsa', 'statist', 'independ', 'ani', 'distribut', 'vs', 'linear', 'orthogon', 'root', 'statist', 'what', 'about', 'ad', 'new', 'can', 'we', 'take', 'some', 'model', 'don', 't', 'care', 'about', 'distribut', 'statist', 'memori', 'so', 'существенным', 'недостатком', 'метода', 'является', 'значительное', 'снижение', 'скорости', 'вычисления', 'при', 'увеличении', 'объёма', 'входных', 'данных', 'например', 'при', 'скорость', 'вычисления', 'соответствует', 'порядку', 'n', 'предполагается', 'что', 'слова', 'и', 'документы', 'имеют', 'нормальное', 'распределение', 'хотя', 'ближе', 'к', 'реальности', 'распределение', 'пуассона']\n",
      "['group', 'method', 'do', 'not', 'comput', 'predict', 'cbow', 'what', 'import', 'stream', 'train', 'measur', 'word', 'similar', 'task', 'improv', 'accuraci', 'much', 'lower', 'comput', 'cost', 'we', 'observ', 'possibl', 'train', 'high', 'qualiti', 'word', 'vector', 'use', 'veri', 'simpl', 'model', 'architectur', 'use', 'distbelief', 'distribut', 'framework', 'should', 'possibl', 'train', 'cbow', 'model', 'even', 'corpora', 'one', 'trillion', 'word']\n",
      "['cbow', 'continu', 'bag', 'word', 'bow', 'multiset', 'object', 'disregard', 'order', 'work', 'imag', 'text', 'input', 'context', 'encod', 'vector', 'output', 'overal', 'collect', 'distribut', 'dict', 'size', 'vector', 'activ', 'softmax', 'model', 'likelihood', 'where', 'embed', 'what', 'bow', 'how', 'use', 'thi', 'ml', 'tdm', 'actual', 'form', 'write', 'down', 'bag', 'all', 'text']\n",
      "['continu', 'model', 'instead', 'predict', 'current', 'word', 'base', 'context', 'tri', 'maxim', 'classif', 'word', 'base', 'anoth', 'word', 'same', 'sentenc', 'paper', 'increas', 'rang', 'improv', 'qualiti', 'result', 'word', 'vector', 'but', 'also', 'increas', 'comput', 'complex', 'we', 'give', 'less', 'weight', 'distant', 'word', 'sampl', 'less', 'those', 'word', 'our', 'train', 'exampl']\n",
      "['bonu', 'vector', 'space', 'arithmet']\n",
      "['train', 'qualiti', 'we', 'use', 'three', 'train', 'epoch', 'stochast', 'gradient', 'descent', 'backpropag', 'we', 'chose', 'start', 'learn', 'rate', 'decreas', 'linearli', 'so', 'approach', 'zero', 'end', 'last', 'train', 'epoch', 'there', 'semant', 'syntact', 'what', 'actual', 'we', 'want', 'abl', 'do', 'these', 'vector', 'find', 'closest', 'b', 'fix', 'relat', 'vector', 'infer', 'all', 'dataset', 'msr', 'new', 'test', 'i', 'can', 'not', 'say', 'if', 'result', 'inspir', 'metric', 'or', 'vice', 'versa', 'but', 'still', 'now', 'we', 'have', 'tool', 'both', 'task', 'qualiti', 'rais', 'significantli', 'broke', 'barrier']\n",
      "['almost', 'everyon', 's', 'problem', 'oov', 'out', 'vocabulari', 'or', 'even', 'underrepres', 'word', 'grammar', 'abbrevi', 'form', 'homograph', 'out', 'scope', 'paper', 'don', 't', 'discuss', 'lexer', 'or', 'stemmer', 'train', 'depend', 'n', 'context', 'size', 'd', 'dictionari', 'still', 'work', 'word', 'not', 'paragraph', 'or', 'sentenc']\n",
      "['paragraph', 'vector', 'we', 'concaten', 'paragraph', 'vector', 'sever', 'word', 'vector', 'paragraph', 'predict', 'follow', 'word', 'given', 'context', 'paragraph', 'vector', 'uniqu', 'among', 'paragraph', 'word', 'vector', 'share', 'no', 'syntax', 'use', 'pars', 'tree', 'combin', 'word', 'vector', 'ha', 'been', 'shown', 'work', 'onli', 'sentenc', 'becaus', 'reli', 'pars', 'paragraph', 'token', 'can', 'thought', 'anoth', 'word', 'paragraph', 'vector', 'length', 'can', 'differ', 'infer', 'stage', 'get', 'paragraph', 'vector', 'd', 'new', 'paragraph', 'never', 'seen', 'befor', 'ad', 'more', 'column', 'd', 'gradient', 'descend', 'd', 'while', 'hold', 'w', 'u', 'b', 'fixedpractic', 'prove', 'model', 'not', 'accuraci', 'note', 'discuss', 'slightli', 'differ', 'model', 'predict', 'next', 'word', 'onli']\n",
      "['detail', 'paragraph', 'vector', 'distribut', 'memori', 'concaten', 'paragraph', 'word', 'vector', 'paragraph', 'vector', 'distribut', 'bag', 'word', 'ignor', 'context', 'word', 'input', 'but', 'forc', 'model', 'predict', 'word', 'randomli', 'sampl', 'paragraph', 'output', 'sampl', 'text', 'window', 'then', 'sampl', 'random', 'word', 'text', 'window', 'form', 'classif', 'task', 'given', 'paragraph', 'vector']\n",
      "['train', 'qualiti', 'sgd', 'nb', 'paragraph', 'vector', 'infer', 'requir', 'run', 'gd', 'sentiment', 'analysi', 'classif', 'special', 'charact', 'such', 'treat', 'normal', 'word']\n",
      "['see', 'also', 'glove', 'global', 'vector', 'word', 'represent']\n",
      "['go', 'deeper']\n",
      "['dssm', 'deep', 'structur', 'semant', 'model', 'origin', 'architectur', 'train', 'predict', 'cosin', 'similar', 'use', 'bag', 'letter', 'trigram', 'import', 'initi', 'creat', 'search', 'use', 'specif', 'metric', 'problem', 'rel', 'small', 'input', 'size', 'trigram', 'deep', 'network', 'train', 'posit', 'click', 'header', 'neg', 'shown', 'but', 'not', 'click', 'not', 'necessari', 'relev', 'модель', 'обучается', 'таким', 'образом', 'чтобы', 'для', 'положительны', 'обучающих', 'примеров', 'выходное', 'значение', 'было', 'большим', 'а', 'для', 'отрицательных', 'маленьким']\n",
      "['dssm', 'yandex', 'input', 'layer', 'trigram', 'word', 'word', 'bigram', 'train', 'fail', 'random', 'neg', 'fail', 'fake', 'neg', 'hard', 'neg', 'mine', 'take', 'random', 'best', 'predict', 'use', 'neg', 'sampl', 'similar', 'gan', 'but', 'simpler', 'network', 'fight', 'itself', 'other', 'target', 'dwelltim']\n",
      "['see', 'also', 'elmo', 'embed', 'languag', 'model', 'lstm']\n",
      "['bert', 'bidirect', 'encod', 'represent', 'transform', 'creat', 'learn', 'languag', 'model', 'solv', 'gener', 'languag', 'task', 'mode', 'train', 'predict', 'mask', 'word', 'also', 'train', 'predict', 'logic', 'connect', 'between', 'phrase', 'major', 'limit', 'standard', 'languag', 'model', 'unidirect', 'thi', 'limit', 'choic', 'architectur', 'can', 'use', 'dure', 'state', 'input', 'problem', 'influenc', 'much', 'bigger']\n",
      "['read', 'paper', 'articl', 'link', 'present', 'thi', 'topic', 'moodl']\n",
      "['forest', 'search', 'tree', 'stanislav', 'protasov', 'albina', 'khu', 'inovacontext', 'vector', 'space', 'cosin', 'sublinear', 'log', 'ani', 'metric', 'space', 'minu', 'nsw', 'avg', 'log', 'not', 'worst', 'case']\n",
      "['refresh', 'proxim', 'graph', 'small', 'world', 'graph', 'navig', 'small', 'worldidea', 'last', 'lect']\n",
      "['agenda', 'ann', 'tree', 'search', 'tree', 'quad', 'tree', 'annoy', 'some', 'othersfocu', 'kd']\n",
      "['approach', 'cluster', 'proxim', 'graph']\n",
      "['refresh', 'b', 'st', 'usual', 'binari', 'tree', 'built', 'upon', 'compar', 'key', 'scalar', 'similar', 'search', 'procedur', 'preserv', 'balanc', 'properti', 'ensur', 'o', 'log', 'n', 'max', 'path', 'length', 'can', 'homogen', 'avl', 'not', 'tree', 'regular', 'scalar', 'balanc', 'search', 'alway', 'stop', 'leaf', 'node']\n",
      "['but', 'what', 'if', 'we', 'have', 'vector', 'vector', 'coordin', 'object', 'embed']\n",
      "['origin', 'comput', 'graphicswhi', 'cg', 'don', 't', 'render', 'you', 'don', 't', 'need', 'render', 'scene', 'overlap', 'region', 'polygon', 'use', 'doom', 'graphic', 'ray', 'trace', 'if', 'you', 'can', 'not', 'render', 'where', 'you', 'don', 't', 'need', 'ok']\n",
      "['trivial', 'case', 'vector', 'scalar', 'binari', 'search', 'tree', 'splay', 'rb', 'avl', 'tree', 'best', 'ram', 'search', 'tree', 'use', 'hard', 'drive', 'search', 'exact', 'search', 'o', 'log', 'n', 'k', 'nearest', 'neighbour', 'search', 'o', 'log', 'n', 'k', 'rang', 'search', 'o', 'log', 'n', 'k', 'guarante', 'proport', 'split', 'axi', 'search', 'type', 'here']\n",
      "['quadtre', 'form', 'quad', 'tree', 'region', 'point', 'edg', 'polygon', 'all', 'form', 'quadtre', 'share', 'some', 'common', 'featur', 'decompos', 'space', 'into', 'adapt', 'cell', 'each', 'cell', 'or', 'bucket', 'ha', 'maximum', 'capac', 'when', 'maximum', 'capac', 'reach', 'bucket', 'splitsclass', 'ds', 'cg', 'adapt', 'cell', 'overflow', 'see', 'say', 'noth', 'about', 'balanc']\n",
      "['quadtre', 'search', 'function', 'queryrang', 'rang', 'pointsinrang', 'if', 'thi', 'boundari', 'intersect', 'rang', 'return', 'pointsinrang', 'int', 'p', 'p', 'if', 'p', 'p', 'if', 'null', 'no', 'children', 'return', 'pointsinrang', 'queryrang', 'rang', 'queryrang', 'rang', 'queryrang', 'rang', 'queryrang', 'rang', 'return', 'pointsinrang', 'rang', 'search', 'quadrant', 'recurs']\n",
      "['quadtre', 'insert', 'function', 'insert', 'p', 'if', 'thi', 'p', 'return', 'fals', 'object', 'can', 'not', 'ad', 'if', 'thi', 'northwest', 'null', 'append', 'p', 'return', 'true', 'if', 'null', 'thi', 'subdivid', 'if', 'insert', 'p', 'return', 'true', 'if', 'insert', 'p', 'return', 'true', 'if', 'insert', 'p', 'return', 'true', 'if', 'insert', 'p', 'return', 'true', 'idea']\n",
      "['quadtre', 'insert', 'b', 'c', 'small', 'rotat', 'b', 'c', 'big', 'rotat']\n",
      "['quadtre', 'delet', 'fact', 'seem', 'one', 'can', 'not', 'do', 'better', 'than', 'reinsert', 'all', 'strand', 'node', 'one', 'one', 'into', 'new', 'tree', 'thi', 'answer', 'not', 'veri', 'satisfactori', 'matter', 'some', 'interest', 'whether', 'there', 'exist', 'ani', 'merg', 'algorithm', 'work', 'faster', 'than', 'n', 'log', 'n', 'where', 'n', 'total', 'number', 'node', 'two', 'tree', 'common', 'problem', 'all', 'ds', 'balanc']\n",
      "['quadtre', 'optim', 'optim', 'tree', 'we', 'mean', 'quad', 'tree', 'such', 'everi', 'node', 'k', 'ha', 'thi', 'properti', 'no', 'subtre', 'k', 'account', 'more', 'than', 'node', 'tree', 'whose', 'root', 'simpl', 'recurs', 'algorithm', 'complet', 'optim', 'thi', 'given', 'collect', 'lexicograph', 'order', 'record', 'we', 'first', 'find', 'one', 'r', 'which', 'serv', 'root', 'collect', 'then', 'we', 'regroup', 'node', 'into', 'subcollect', 'which', 'four', 'subtre', 'process', 'call', 'recurs', 'each', 'no', 'subtre', 'can', 'possibl', 'contain', 'more', 'than', 'half', 'total', 'number', 'node']\n",
      "['can', 'you', 'see', 'ani', 'suboptim', 'whi', 'ne', 'sw', 'whi', 'onli', 'no']\n",
      "['tree', 'idea', 'split', 'point', 'equal', 'subspac', 'not', 'use', 'altern', 'coordin', 'each', 'level', 'x', 'y', 'z', 'x', 'y', 'z', 'thu', 'we', 'need', 'level', 'encod', 'quadrant', 'but', 'they', 'equal', 'ye', 'thi', 'allow', 'us', 'have', 'more', 'than', 'dimensionsfokin', 'ya', 'bst', 'problem', 'level', 'node']\n",
      "['tree', 'construct', 'homogen', 'def', 'buildkdtre', 'vector', 'if', 'not', 'vector', 'return', 'none', 'stop', 'condit', 'if', 'len', 'vector', 'return', 'node', 'vector', 'key', 'lambda', 'x', 'x', 'dim', 'or', 'select', 'alg', 'o', 'n', 'med', 'len', 'vector', 'left', 'med', 'right', 'vector', 'med', 'vector', 'med', 'vector', 'node', 'node', 'med', 'buildkdtre', 'left', 'dim', 'k', 'buildkdtre', 'right', 'dim', 'k', 'return', 'nodedivid', 'hyperplan', 'homogen', 'keep', 'valu', 'everi', 'node', 'med', 'onli', 'if', 'no', 'duplic']\n",
      "['tree', 'build', 'point']\n",
      "['tree', 'characterist', 'built', 'time', 'requir', 'o', 'kn', 'memori', 'most', 'node', 'point', 'run', 'rang', 'search', 'where', 'result', 'size', 'run', 'search', 'o', 'log', 'n', 'time', 'build', 'hyperplan', 'requir', 'vector', 'represent', 'keysworst', 'case', 'rang', 'search', 'requir', 'all', 'node', 'process', 'анализ', 'очевидно', 'что', 'минимальное', 'количество', 'просмотренных', 'элементов', 'это', 'o', 'h', 'где', 'h', 'это', 'высота', 'дерева', 'так', 'же', 'очевидно', 'что', 'максимальное', 'количество', 'просмотренных', 'элементов', 'это', 'o', 'h', 'то', 'есть', 'просмотр', 'всех', 'узлов', 'остаётся', 'посчитать', 'среднее', 'количество', 'просмотренных', 'элементов']\n",
      "['faster', 'rang', 'queri', 'rang', 'tree', 'rang', 'tree', 'set', 'point', 'balanc', 'binari', 'search', 'tree', 'those', 'point', 'intern', 'node', 'store', 'predecessor', 'largest', 'left', 'rang', 'tree', 'higher', 'dimens', 'construct', 'recurs', 'construct', 'balanc', 'binari', 'search', 'tree', 'first', 'coordin', 'point', 'then', 'each', 'vertex', 'v', 'thi', 'tree', 'construct', 'rang', 'tree', 'point', 'contain', 'subtre', 'vlog', 'search', 'but', 'n', 'n', 'storag']\n",
      "['imag', 'sourc', 'link']\n",
      "['sort', 'look', 'median', 'soooo', 'bore']\n",
      "['annoy', 'spotifi', 'instead', 'look', 'median', 'select', 'equidist', 'hyperplan', 'random', 'point', 'then', 'split', 'done', 'linear', 'time', 'random', 'project', 'use', 'soft', 'threshold', 'allow', 'travers', 'wrong', 'branch', 'ann', 'build', 'multipl', 'search', 'tree', 'over', 'same', 'dataset', 'compar', 'multipl', 'search', 'nsw', 'gener', 'binari', 'space', 'partit', 'use', 'cg', 'doom', 'quak', 'visibl', 'hplane', 'parallel', 'axi', 'ani', 'dimens', 'http', 'http']\n",
      "['multipl', 'tree', 'anim', 'multipl', 'tree', 'show', 'anim']\n",
      "['ann', 'result', 'annoy']\n",
      "['oh', 'no', 'i', 'don', 't', 'have', 'vector', 'vector', 'tree', 'what', 'if', 'onli', 'metric']\n",
      "['vp', 'tree', 'instead', 'divid', 'space', 'plane', 'we', 'can', 'divid', 'if', 'sphere', 'or', 'nest', 'sphere', 'recurs', 'sphere', 'requir', 'onli', 'center', 'one', 'dataset', 'point', 'radiu', 'which', 'can', 'estim', 'ani', 'metric', 'space', 'radiu', 'select', 'split', 'point', 'into', 'equal', 'part', 'moment', 'varianc', 'select', 'point', 'maximis', 'varianc', 'distanc']\n",
      "['ok', 'you', 'must', 'lost', 'all', 'those', 'tree', 'recurs', 'split', 'space', 'into', 'similar', 'size', 'part', 'quad', 'tree', 'work', 'r', 'onli', 'each', 'node', 'split', 'space', 'into', 'non', 'equal', 'quadrant', 'tree', 'work', 'r', 'k', 'each', 'node', 'split', 'space', 'into', 'equal', 'part', 'annoy', 'work', 'r', 'k', 'instead', 'sort', 'find', 'median', 'use', 'random', 'separ', 'hyperplan', 'but', 'compens', 'multipl', 'tree', 'tree', 'work', 'ani', 'metric', 'space', 'instead', 'hyperplan', 'use', 'sphere']\n",
      "['offtop', 'interv', 'bsp', 'tree', 'when', 'object', 'not', 'pointpair', 'ds', 'similar', 'idea', 'first', 'store', 'interv', 'second', 'store', 'polygon', 'which', 'gener']\n",
      "['interv', 'tree']\n",
      "['interv', 'tree', 'tree', 'hold', 'interv', 'allow', 'search', 'fastli', 'which', 'them', 'overlap', 'queri', 'point', 'or', 'interv', 'construct', 'l', 'you', 'have', 'list', 'interv', 'l', 'x', 'center', 'split', 'all', 'interv', 'into', 'left', 'intersect', 'right', 'list', 'store', 'intersect', 'current', 'node', 'list', 'sort', 'start', 'end', 'run', 'construct', 'left', 'construct', 'right', 'interv', 'search', 'p', 'node', 'compar', 'p', 'center', 'use', 'sort', 'list', 'node', 'find', 'intersect', 'go', 'search', 'p', 'node', 'respect']\n",
      "['store', 'polygon', 'list', 'choos', 'polygon', 'p', 'list', 'l', 'make', 'node', 'n', 'add', 'p', 'list', 'n', 'each', 'other', 'polygon', 'q', 'list', 'if', 'q', 'front', 'p', 'plane', 'move', 'q', 'list', 'l', 'f', 'front', 'p', 'if', 'q', 'behind', 'p', 'plane', 'move', 'q', 'list', 'l', 'b', 'behind', 'p', 'if', 'q', 'intersect', 'p', 'plane', 'split', 'into', 'two', 'polygon', 'move', 'them', 'respect', 'list', 'if', 'polygon', 'lie', 'plane', 'contain', 'p', 'add', 'list', 'n', 'appli', 'thi', 'algorithm', 'l', 'f', 'l', 'b', 'search', 'point', 'viewpoint', 'search', 'allow', 'obtain', 'correct', 'render', 'order', 'same', 'procedur', 'interv', 'tree', 'if', 'current', 'node', 'leaf', 'node', 'render', 'polygon', 'current', 'node', 'otherwis', 'if', 'view', 'locat', 'v', 'front', 'current', 'node', 'render', 'child', 'bsp', 'tree', 'contain', 'polygon', 'behind', 'current', 'node', 'render', 'polygon', 'current', 'node', 'render', 'child', 'bsp', 'tree', 'contain', 'polygon', 'front', 'current', 'node', 'otherwis', 'if', 'view', 'locat', 'v', 'behind', 'current', 'node', 'render', 'child', 'bsp', 'tree', 'contain', 'polygon', 'front', 'current', 'node', 'render', 'polygon', 'current', 'node', 'render', 'child', 'bsp', 'tree', 'contain', 'polygon', 'behind', 'current', 'node', 'otherwis', 'view', 'locat', 'v', 'must', 'exactli', 'plane', 'associ', 'current', 'node', 'then', 'render', 'child', 'bsp', 'tree', 'contain', 'polygon', 'front', 'current', 'node', 'render', 'child', 'bsp', 'tree', 'contain', 'polygon', 'behind', 'current', 'node']\n",
      "['ani', 'other', 'tree', 'left', 'ye', 'lot']\n",
      "['select', 'dimens', 'biggest', 'varianc', 'split', 'pivot', 'element', 'median', 'construct', 'ball', 'tree', 'left', 'right', 'power', 'algorithm', 'search', 'data', 'structur', 'test', 'point', 't', 'ha', 'alreadi', 'seen', 'some', 'point', 'p', 'closest', 't', 'among', 'point', 'encount', 'so', 'far', 'then', 'ani', 'subtre', 'whose', 'ball', 'further', 't', 'than', 'p', 'can', 'ignor', 'rest', 'import', 'applic', 'ball', 'tree', 'expedit', 'nearest', 'neighbor', 'search', 'queri', 'which', 'object', 'find', 'k', 'point', 'tree', 'closest', 'given', 'test', 'point', 'some', 'distanc', 'metric', 'euclidean', 'distanc', 'simpl', 'search', 'algorithm', 'sometim', 'call', 'exploit', 'distanc', 'properti', 'ball', 'tree', 'particular', 'if', 'algorithm', 'search', 'data', 'structur', 'test', 'point', 't', 'ha', 'alreadi', 'seen', 'some', 'point', 'p', 'closest', 't', 'among', 'point', 'encount', 'so', 'far', 'then', 'ani', 'subtre', 'whose', 'ball', 'further', 't', 'than', 'p', 'can', 'ignor', 'rest', 'search']\n",
      "['see', 'also', 'octre']\n",
      "['web', 'basic', 'stanislav', 'protasov', 'albina', 'khusainova']\n",
      "['agenda', 'internet', 'nutshel', 'web', 'idea', 'web', 'web', 'transport', 'format', 'browser', 'dom', 'crawl', 'basic', 'sitemap', 'term', 'condit', 'api']\n",
      "['ok', 'googl', 'what', 'internet']\n",
      "['ip', 'protocol', 'address', 'http', 'http', 'http', 'http', 'bitstask', 'creat', 'url', 'lead', 'you', 'zone', 'fix', 'ip', 'broadcast', 'ani', 'ip', 'адреса', 'используемые', 'в', 'локальных', 'сетях', 'относят', 'к', 'частным', 'к', 'частным', 'относятся', 'из', 'следующих', 'сетей', 'также', 'для', 'внутреннего', 'использования', 'используется', 'для', 'автоматической', 'настройки', 'сетевого', 'интерфейса', 'в', 'случае', 'отсутствия', 'dhcp', 'when', 'you', 'test', 'your', 'site', 'local', 'machin', 'or', 'server', 'sure', 'ip', 'not', 'chang', 'dhcp', 'deleg', 'parallel', 'case', 'bit']\n",
      "['ip', 'mechan', 'hardwar', 'usual', 'rfc', 'standard', 'sourc', 'nat', 'destin', 'nat', 'http', 'findstr', 'good', 'address', 'starvat', 'perimet', 'system', 'bad', 'peer', 'network', 'bidirect', 'commun', 'can', 'помимо', 'nat', 'на', 'более', 'высоком', 'уровне', 'see', 'diagram', 'nat']\n",
      "['tri', 'w', 'findstr', 'ipv', 'l', 'ifconfig', 'grep', 'inet', 'how', 'mani', 'address', 'do', 'you', 'have']\n",
      "['countri', 'ip', 'use', 'ip', 'one', 'pretti', 'surprisingli', 'reliabl', 'way', 'geo', 'locat', 'geoip', 'countri', 'detect', 'citi', 'detect', 'detect', 'countri', 'you', 'need', 'databas', 'servic', 'process', 'ip', 'last', 'visibl', 'node', 'chain', 'so', 'nat', 'proxi', 'turbo', 'mode', 'fool', 'servic']\n",
      "['oper', 'oper', 'rostelecom', 'mt', 'russia', 't', 'these', 'network', 'exchang', 'traffic', 'peer', 'condit', 'free', 'altogeth', 'can', 'consid', 'backbon', 'internet', 'oper', 'have', 'partial', 'free', 'peer', 'some', 'segment', 'but', 'paid', 'transit', 'other', 'segment', 'have', 'onli', 'paid', 'access', 'internet', 'takeaway', 'local', 'oper', 'subject', 'regul', 'rkn', 'backup', 'channel', 'vpn', 'so', 'import', 'servic', 'qualiti', 'think', 'twice', 'about', 'where', 'your', 'dc', 'small', 'network', 'share', 'same', 'other', 'network', 'overbreak', 'peer', 'exchang', 'problem', 'but', 'not', 'catastroph', 'connect', 'few', 'internet', 'exchang', 'point', 'not', 'pairwis', 'but', 'hub', 'крупнейшей', 'сетью', 'для', 'обмена', 'трафиком', 'в', 'россии', 'является', 'в', 'москве', 'организаций', 'это', 'всё', 'про', 'трафик', 'это', 'инфраструктура', 'которая', 'с', 'модели', 'поднимается', 'на', 'уровень', 'дальше', 'про', 'содержание', 'трафика']\n",
      "[]\n",
      "[]\n",
      "['tri', 'w', 'tracert', 'l', 'tracerout', 'where', 'rtk', 'where', 'yandex']\n",
      "['name', 'servic', 'dn', 'domain', 'name', 'system', 'allow', 'oper', 'name', 'instead', 'address', 'there', 'core', 'root', 'server', 'respons', 'internet', 'lower', 'level', 'respons', 'domain', 'subdomain', 'dn', 'support', 'forward', 'domain', 'ip', 'revers', 'ip', 'domain', 'request', 'nslookup', 'nslookup', 'nslookup', 'root', 'name', 'server', 'respons', 'internet', 'them', 'never', 'chang', 'ip', 'they', 'show', 'server', 'respons', 'domain', 'name', 'dn', 'yandex', 'basic', 'secur', 'famili']\n",
      "['resourc', 'recordbuild', 'link', 'between', 'server', 'domain', 'запись', 'address', 'record', 'или', 'запись', 'адреса', 'связывает', 'имя', 'хоста', 'с', 'адресом', 'протокола', 'например', 'запрос', 'на', 'имя', 'вернёт', 'его', 'запись', 'aaaa', 'address', 'record', 'связывает', 'имя', 'хоста', 'с', 'адресом', 'протокола', 'например', 'запрос', 'на', 'имя', 'вернёт', 'его', 'запись', 'cname', 'canon', 'name', 'record', 'или', 'каноническая', 'запись', 'имени', 'псевдоним', 'используется', 'для', 'перенаправления', 'на', 'другое', 'имя', 'запись', 'mx', 'mail', 'exchang', 'или', 'почтовый', 'обменник', 'указывает', 'сервер', 'ы', 'обмена', 'почтой', 'для', 'данного', 'домена', 'запись', 'ns', 'name', 'server', 'указывает', 'на', 'для', 'данного', 'домена', 'запись', 'ptr', 'point', 'revers', 'или', 'запись', 'указателя', 'связывает', 'хоста', 'с', 'его', 'каноническим', 'именем', 'запрос', 'в', 'домене']\n",
      "['short', 'quiz', 'test', 'yourself', 'one', 'websit', 'open', 'me', 'but', 'other', 'doe', 'not', 'same', 'my', 'neighbour', 'whi', 'one', 'websit', 'open', 'me', 'but', 'other', 'doe', 'not', 'both', 'work', 'my', 'neighbour', 'whi', 'i', 'wa', 'crawl', 'data', 'marketplac', 'request', 'lib', 'work', 'day', 'but', 'today', 'crawler', 'throw', 'whi', 'i', 'click', 'link', 'start', 'my', 'email', 'i', 'know', 'all', 'googl', 'page', 'secur', 'but', 'browser', 'say', 'whi']\n",
      "['web', 'http']\n",
      "['key', 'buzz', 'word', 'internet', 'network', 'transfer', 'inform', 'among', 'devic', 'www', 'web', 'graph', 'document', 'hypertext', 'place', 'connect', 'internet', 'hypertext', 'text', 'contain', 'refer', 'other', 'text', 'html', 'hypertext', 'markup', 'languag', 'standard', 'hypertext', 'internet', 'web', 'everyth', 'beyond', 'static', 'html', 'document', 'social', 'network', 'blog', 'web', 'applic', 'servic', 'network', 'web', 'semant', 'web', 'graph', 'semant', 'rich', 'document', 'только', 'выходим', 'за', 'формальные', 'границы', 'программирования', 'попадаем', 'в', 'поле', 'нечётких', 'понятий', 'бороться', 'максимально', 'короткие', 'определения', 'с', 'общепринятыми', 'характеристиками', 'гипертекст', 'не', 'обязательно', 'сетевое', 'понятие', 'гипертекст', 'может', 'иметь', 'воплощение', 'в', 'бумаге', 'наличие', 'ссылок', 'позволяет', 'формировать', 'произвольный', 'линейный', 'порядок', 'прочтения', 'классический', 'пример', 'хазарский', 'словарь', 'милорада', 'павича', 'и', 'вообще', 'любая', 'энциклопедия', 'подчёркнуто', 'на', 'слайдах', 'то', 'чем', 'займёмся', 'курсивом', 'о', 'чём', 'расскажут', 'профильные', 'спецы', 'пропедалить', 'что', 'сейчас', 'web', 'это', 'каша', 'из', 'контента', 'и', 'софта', 'интерактивные', 'порталы', 'и', 'saa', 'это', 'свежая', 'и', 'важная', 'ниша', 'разработки', 'со', 'своими', 'особенностями']\n",
      "['hypertext', 'evolut', 'web', 'web', 'web', 'html', 'subset', 'sgml', 'markup', 'languag', 'xhtml', 'fusion', 'html', 'tag', 'xml', 'standard', 'x', 'valuabl', 'layout', 'chang', 'semant', 'tag', 'ad', 'sgml', 'parser', 'xml', 'parser', 'parser', 'present', 'browser', 'display', 'interact', 'media', 'content', 'creation', 'support', 'semant', 'markupstandard', 'gener', 'markup', 'languag', 'язык', 'разметки', 'markup', 'декларативный', 'язык', 'с', 'возможностью', 'имплементаций', 'html', 'extens', 'markup', 'languag', 'тоже', 'имплементация', 'sgml', 'но', 'с', 'дополнительными', 'ограничениями', 'social', 'network', 'exampl', 'search', 'exampl']\n",
      "['uri', 'vs', 'url', 'unifi', 'resourc', 'identifi', 'uri', 'text', 'identifi', 'resourc', 'creat', 'accord', 'specif', 'rule', 'uri', 'common', 'syntax', 'scheme', 'unifi', 'resourc', 'locat', 'url', 'subset', 'uri', 'describ', 'locat', 'way', 'protocol', 'access', 'object', 'internet', 'http', 'unifi', 'resourc', 'name', 'urn', 'subset', 'uri', 'identifi', 'object', 'but', 'doe', 'not', 'locat', 'urn', 'может', 'быть', 'для', 'книги', 'аналог', 'isbn', 'это', 'не', 'только', 'urn', 'book', 'last', 'unicorn', 'identifi', 'book', 'number', 'urn', 'film', 'identifi', 'audiovisu', 'number']\n",
      "['url', 'syntax', 'exampl', 'http', 'ftp', 'qwerti', 'wss', 'http', 'author', 'aleksandr', 'рассказать', 'про', 'дефолты', 'браузерный', 'http', 'vs', 'http', 'http', 'серверный', 'index', 'прописывается', 'на', 'сервере', 'http', 'http', 'всё', 'что', 'касается', 'хвоста', 'после', 'хостнейма', 'на', 'совести', 'вебсервера', 'очень', 'хорошо', 'это', 'видно', 'на', 'примере', 'там', 'по', 'умолчанию', 'вообще', 'нет', 'никакого', 'разбора', 'url', 'http', 'lgk', 'lgkdfj', 'gl', 'gldkfgj', 'dlkgdj', 'g', 'df', 'про', 'ограничения', 'на', 'используемые', 'символы', 'буквы', 'цифры', 'поддержка', 'доменов', 'и', 'путей', 'через', 'punycod', 'для', 'доменов', 'и', 'для', 'хвоста']\n",
      "['http', 'http', 'hypertext', 'transfer', 'protocol', 'applic', 'level', 'protocol', 'deliv', 'text', 'data', 'creat', 'transfer', 'hypertext', 'provid', 'commun', 'between', 'client', 'usual', 'browser', 'server', 'use', 'client', 'request', 'server', 'respons', 'http', 'doe', 'not', 'support', 'use', 'singl', 'tcp', 'session', 'multipl', 'request', 'support', 'follow', 'client', 'request', 'method', 'get', 'get', 'content', 'server', 'head', 'get', 'onli', 'header', 'server', 'without', 'content', 'what', 'expect', 'post', 'sent', 'data', 'server', 'http', 'support', 'also', 'put', 'delet', 'trace', 'option', 'connect', 'patch', 'sdpi', 'googl', 'base', 'updat', 'binari', 'header', 'compress', 'server', 'push', 'conveyor', 'request', 'request', 'multiplex', 'over', 'singl', 'tcpпридуман', 'для', 'передачи', 'html', 'но', 'используется', 'далеко', 'не', 'только', 'для', 'при', 'этом', 'конечно', 'схлопатывает', 'оверхэд', 'данные', 'кодятся', 'в', 'текст', 'например', 'в', 'лучшем', 'случае', 'одна', 'из', 'особенностей', 'клиент', 'серверной', 'архитектуры', 'в', 'том', 'что', 'сервер', 'обслуживающий', 'отвечает', 'на', 'запросы', 'клиентов', 'таким', 'образом', 'реализуется', 'общения', 'сервер', 'не', 'может', 'быть', 'инициатором', 'передачи', 'данных', 'сейчас', 'уже', 'это', 'не', 'так', 'см', 'websocket', 'inspect', 'manual', 'either', 'dev', 'panel', 'view', 'or', 'telnet', 'instal', 'compon', 'putti', 'telnet', 'o', 'get', 'head', 'host', 'o', 'get', 'host', 'post', 'show', 'i', 'wrote', 'some', 'data', 'port', 'i', 'can', 'write', 'crowler', 'bot', 'can', 'access', 'page', 'via', 'http', 'exampl', 'i', 'did', 'c', 'caus', 'websocket', 'class', 'had', 'lag', 'в', 'сервер', 'имеет', 'право', 'послать', 'то', 'содержимое', 'которое', 'ещё', 'не', 'было', 'запрошено', 'клиентом', 'это', 'позволит', 'серверу', 'сразу', 'выслать', 'дополнительные', 'файлы', 'которые', 'потребуются', 'браузеру', 'для', 'отображения', 'страниц', 'без', 'необходимости', 'анализа', 'браузером', 'основной', 'страницы', 'trace', 'вернёт', 'эхо', 'connect', 'используется', 'с', 'прокси', 'patch', 'обновление', 'части', 'ресурсов']\n",
      "['http', 'header', 'http', 'request', 'request', 'uri', 'host', 'header', 'bodi', 'post', 'host', 'accept', 'http', 'respons', 'code', 'header', 'bodi', 'ok', 'html', 'каждый', 'протокол', 'это', 'ограничения', 'на', 'структуру', 'данных', 'оверхед', 'протокол', 'состоит', 'их', 'заголовков', 'пустой', 'строки', 'и', 'тела', 'demo', 'head', 'host', 'get', 'option', 'а', 'затем', 'через', 'chrome', 'показать', 'network', 'copi', 'request', 'header']\n",
      "['import', 'header', 'request', 'accept', 'format', 'your', 'browser', 'understand', 'encod', 'support', 'compress', 'algorithm', 'gzip', 'deflat', 'author', 'header', 'store', 'authent', 'type', 'author', 'basic', 'request', 'bodi', 'length', 'same', 'respons', 'browser', 'oper', 'system', 'upgrad', 'request', 'chang', 'commun', 'protocol', 'upgrad', 'websocket', 'respons', 'time', 'store', 'document', 'browser', 'cach', 'content', 'characterist']\n",
      "['browser', 'fingerprint', 'domain', 'i', 'see', 'first', 'time']\n",
      "['respons', 'code', 'inform', 'switch', 'protocol', 'success', 'ok', 'creat', 'new', 'resourc', 'partial', 'content', 'redirect', 'specifi', 'header', 'locat', 'addr', 'move', 'perman', 'not', 'modifi', 'error', 'unauthor', 'not', 'found', 'error', 'server', 'unavailableесли', 'клиент', 'не', 'знает', 'кода', 'он', 'может', 'разобраться', 'по', 'первой', 'цифре', 'special', 'code', 'ngnx']\n",
      "['request', 'system', 'state', 'safe', 'idempot', 'request', 'safe', 'request', 'doe', 'not', 'chang', 'state', 'get', 'some', 'inform', 'idempot', 'request', 'if', 'you', 'make', 'or', 'more', 'ident', 'request', 'second', 'other', 'request', 'do', 'not', 'chang', 'state', 'f', 'state', 'f', 'f', 'state', 'safe', 'not', 'safe', 'idempot', 'head', 'get', 'option', 'trace', 'put', 'delet', 'post', 'patchэто', 'логические', 'свойства', 'понятно', 'что', 'вопрос', 'реализации', 'логики', 'на', 'сервере', 'но', 'это', 'конвенция', 'которую', 'рекомендуется', 'соблюдать']\n",
      "['paramet', 'get', 'param', 'http', 'post', 'param', 'post', 'позволяют', 'кастомизять', 'запрос', 'это', 'так', 'же', 'способ', 'борьбы', 'с', 'кэшированием', 'основной', 'источник', 'параметров', 'это', 'формы', 'в', 'вы', 'понаписали', 'рождения', 'и', 'попытки', 'параметры', 'должны', 'быть', 'экранированы']\n",
      "['cooki', 'cooki', 'small', 'drive', 'space', 'store', 'data', 'sent', 'server', 'browser', 'max', 'we', 'need', 'cooki', 'state', 'servic', 'cart', 'etc', 'or', 'store', 'session', 'key', 'cooki', 'have', 'life', 'period', 'sent', 'server', 'each', 'requestif', 'you', 'don', 't', 'want', 'write', 'code', 'send', 'some', 'data', 'forward', 'клиентской', 'машине', 'повредить', 'не', 'могут', 'как', 'разработчик', 'можете', 'отказаться', 'от', 'использования', 'cooki', 'потенциально', 'дырявая', 'штука', 'можно', 'увести', 'session', 'key', 'можно', 'собрать', 'статистику', 'по', 'навинации']\n",
      "['cooki', 'exampl', 'c', 'wikipedia']\n",
      "['ftp', 'ftp', 'file', 'transfer', 'protocol', 'consist', 'greet', 'session', 'request', 'session', 'verb', 'param', 'param', 'server', 'responsesне', 'рассчитывался', 'как', 'безопасный', 'существует', 'модификация', 'sftp', 'telnet', 'o', 'user', 'stranger', 'pass', 'stranger']\n",
      "['email', 'smtp', 'imap', 'smtp', 'simpl', 'mail', 'transfer', 'protocol', 'transfer', 'messag', 'between', 'server', 'commun', 'ftp', 's', 'brother', 'post', 'offic', 'protocol', 'standard', 'protocol', 'client', 'get', 'messag', 'server', 'imap', 'internet', 'messag', 'access', 'protocol', 'standard', 'protocol', 'client', 'get', 'messag', 'server', 'ha', 'send', 'implement', 'consid', 'bad', 'keep', 'session', 'support', 'multipl', 'client', 'mailbox']\n",
      "['overviewинтернет', 'это', 'сеть', 'доставки', 'данных', 'поверх', 'неё', 'существуют', 'протоколы', 'прикладного', 'уровня', 'те', 'на', 'которых', 'разговаривают', 'между', 'собою', 'приложения', 'многие', 'протоколы', 'человекочитаемы', 'интернет', 'начинался', 'с', 'почты', 'и', 'сейчас', 'есть', 'основных', 'протокола', 'доставки', 'почты', 'основной', 'протокол', 'доставки', 'файлов', 'и', 'ключевой', 'протокол', 'http', 'доставка', 'гипертекса', 'может', 'быть', 'использован', 'для', 'любого', 'контекса', 'файлов', 'ресурсы', 'определяются', 'через', 'uri', 'хост', 'порт', 'протокол', 'локальный', 'id', 'протоколы', 'между', 'приложениями', 'основной', 'потребитель', 'http', 'браузеры', 'протокол', 'не', 'очень', 'сложный', 'без', 'состояний', 'типов', 'запросов', 'коды', 'ответа', 'заголовки', 'для', 'реализации', 'задач', 'динамического', 'веба', 'параметры', 'для', 'поддержания', 'state', 'кукисы']\n",
      "['web', 'secur', 'client', 'side']\n",
      "['term', 'identif', 'assign', 'label', 'id', 'object', 'long', 'process', 'compar', 'one', 'label', 'list', 'authent', 'procedur', 'check', 'authent', 'prove', 'match', 'between', 'id', 'object', 'we', 'can', 'authent', 'user', 'id', 'password', 'machin', 'document', 'digit', 'signatur', 'can', 'author', 'grant', 'access', 'perform', 'some', 'actionидентификация', 'это', 'определение', 'однозначного', 'соответствия', 'субъекта', 'и', 'объекта', 'в', 'системе', 'многофакторная', 'аутентификация', 'фактора', 'то', 'что', 'мы', 'знаем', 'пароль', 'то', 'что', 'имеем', 'девайс', 'телефон', 'то', 'что', 'часть', 'нас', 'биометрика', 'авторизация', 'пушо', 'вопрос', 'разгранич', 'прав', 'и', 'идентификация', 'вопрос', 'базы', 'id', 'вопрос', 'серверного', 'приложения', 'аутентификация', 'вопрос', 'ложащийся', 'частично', 'на', 'плечи', 'промежуточной', 'среды', 'сам', 'по', 'себе', 'id', 'не', 'несёт']\n",
      "['function', 'limit', 'access', 'mean', 'http', 'protocol', 'rare', 'site', 'most', 'site', 'use', 'authent', 'common', 'servic', 'api', 'access', 'not', 'via', 'browser', 'ui', 'but', 'server', 'or', 'ajax', 'code', 'почему', 'ajax', 'аутентификация', 'сложный', 'процесс', 'а', 'в', 'библиотеках', 'есть', 'поддержка', 'через', 'basic', 'работает', 'доступ', 'к', 'svn', 'parallel', 'через', 'digest', 'на', 'настоящий', 'момент', 'в', 'эпоху', 'не', 'столько', 'важно', 'ограничить', 'доступ', 'к', 'ресурсу', 'сколько', 'к', 'функции', 'по', 'управлению', 'этими', 'ресурсами', 'если', 'речь', 'идёт', 'об', 'ограничении', 'доступа', 'то', 'мы', 'обычно', 'говорим', 'уже', 'о', 'сессиях', 'а', 'для', 'этого', 'уже', 'используются', 'другие', 'механизмы', 'ограничений', 'появляется', 'сторонний', 'механизм', 'сессий', 'как', 'правило', 'через', 'session', 'key', 'в', 'куках']\n",
      "['common', 'fact', 'about', 'authent', 'if', 'server', 'return', 'thi', 'mean', 'want', 'authent', 'you', 'server', 'must', 'send', 'header', 'you', 'unauthor', 'pragma', 'expir', 'server', 'basic', 'area', 'access', 'это', 'challeng', 'задача', 'клиенту', 'на', 'прохождение', 'аутентификации', 'nb', 'unauthor', 'это', 'неправильно', 'на', 'самом', 'деле', 'не', 'аутентифицирован', 'forbidden', 'это', 'и', 'есть', 'unauthor', 'realm', 'это', 'то', 'что', 'показывают', 'пользователю', 'чтобы', 'он', 'знал', 'что', 'вводить']\n",
      "['basic', 'authent', 'easiest', 'way', 'setup', 'authent', 'get', 'host', 'somehost', 'author', 'basic', 'where', 'login', 'nb', 'login', 'password', 'not', 'secur', 'fact', 'onli', 'way', 'use', 'over', 'http', 'you', 'can', 'send', 'thi', 'without', 'challeng', 'each', 'requestпоказать', 'сайт', 'http', 'httpwatch', 'foo', 'можно', 'попробовать', 'авторизоваться', 'с', 'неверным', 'паролем']\n",
      "['digest', 'authent', 'unauthor', 'digest', 'testrealm', 'author', 'digest', 'mufasa', 'testrealm', 'uri', 'rfc', 'rfc', 'дайджест', 'это', 'способ', 'защитить', 'пароль', 'сервер', 'хранит', 'вычислим', 'respons', 'тоже', 'method', 'в', 'нашем', 'случае', 'это', 'слово', 'digest', 'realm', 'некий', 'идентификатор', 'ресурса', 'который', 'будет', 'продемонстрирован', 'пользователю', 'nonс', 'псевдослучайное', 'число', 'со', 'стороны', 'сервера', 'усиливающее', 'криптостойкость', 'типа', 'соли', 'только', 'пересоздаваемой', 'можно', 'поставить', 'политику', 'не', 'принимать', 'несколько', 'раз', 'нонс', 'opaqu', 'это', 'строчка', 'которую', 'нужно', 'вернуть', 'серверу', 'неизменённой', 'с', 'rfc', 'добавляется', 'защита', 'от', 'атака', 'с', 'выбранным', 'открытым', 'текстом', 'attack', 'cpa', 'обратно', 'совместим', 'про', 'другие', 'есть', 'поддержка', 'ntlm', 'nt', 'lan', 'manag', 'когда', 'креды', 'из', 'винды', 'такой', 'подход', 'требует', 'поддержки', 'для', 'успешной', 'аутентификации']\n",
      "['oauth', 'authent', 'applic', 'behalf', 'user', 'or', 'anonym', 'base', 'access', 'tokensaccess', 'token', 'это', 'временный', 'ключ', 'выданный', 'авторизующим', 'сервером', 'приложению', 'для', 'того', 'чтобы', 'оно', 'на', 'правах', 'пользователя', 'могло', 'выполнять', 'операции', 'ограничения', 'соответственно', 'и', 'на', 'то', 'и', 'на', 'то', 'соответственно', 'для', 'такого', 'доступа', 'должны', 'представиться', 'оба', 'iot', 'например', 'показать', 'пример', 'на', 'питоне', 'перекур']\n",
      "['form', 'authent', 'not', 'part', 'http', 'protocol', 'base', 'html', 'form', 'request', 'paramet', 'mechanismпоказать', 'пример']\n",
      "['http', 'secur', 'http', 'http', 'over', 'ssl', 'protocol', 'asymmetr', 'cryptographi', 'symmetr', 'encod', 'tl', 'ssl', 'http', 'ftp', 'telnet', 'work', 'transpar', 'over', 'firstli', 'client', 's', 'applic', 'browser', 'perform', 'handshak', 'then', 'channel', 'creat', 'data', 'sent', 'over', 'thi', 'channel', 'use', 'standard', 'protocol', 'http', 'не', 'совсем', 'отдельный', 'протокол', 'это', 'http', 'работающий', 'через', 'позволяющие', 'прослушивать', 'за', 'это', 'отвечают', 'протоколы', 'ssl', 'или', 'tl', 'стандартный', 'порт', 'нужен', 'для', 'того', 'чтобы', 'клиент', 'мог', 'доверять', 'ресурсу', 'не', 'совем', 'авторизация', 'и', 'наоборот', 'ресурс', 'может']\n",
      "['http', 'клиент', 'рассказывает', 'что', 'он', 'умееет', 'сервер', 'присылает', 'сертификат', 'удостоверение', 'публичный', 'ключ', 'и', 'идентификатор', 'соединения', 'после', 'может', 'идти', 'фаза', 'идентификации', 'клиента']\n",
      "['certif', 'digit', 'certif', 'electron', 'document', 'file', 'ensur', 'public', 'key', 'belong', 'bearer', 'certif', 'must', 'sign', 'certif', 'author', 'mandatori', 'cert', 'part', 'resourc', 'id', 'subject', 'public', 'key', 'certif', 'author', 'issuer', 'option', 'cert', 'part', 'privat', 'key', 'usag', 'restrictionsпоказать', 'и', 'certif', 'http', 'про', 'подписан', 'рассказать', 'про', 'цепочки', 'подписания', 'и', 'аналог', 'с', 'паспортами', 'про', 'самоподписанные', 'сертификаты']\n",
      "['befor', 'we', 'continu', 'internet', 'internet', 'ip', 'ip', 'manag', 'rout', 'how', 'data', 'flow', 'one', 'machin', 'server', 'anoth', 'smartphon', 'provid', 'work', 'thi', 'level', 'tool', 'tracert', 'ping', 'tcp', 'manag', 'how', 'transfer', 'more', 'than', 'one', 'packet', 'date', 'preserv', 'order', 'integr', 'i', 'tool', 'nc', 'telnet', 'dn', 'assign', 'string', 'name', 'allow', 'establish', 'relat', 'thu', 'make', 'infrastructur', 'faster', 'reliabl', 'domain', 'name', 'object', 'legal', 'regul', 'whoi', 'tool', 'nslookup', 'ping']\n",
      "['befor', 'we', 'continu', 'web', 'hypertext', 'html', 'http', 'hypertext', 'approach', 'repres', 'link', 'document', 'altogeth', 'web', 'standard', 'http', 'protocol', 'transfer', 'hyper', 'text', 'data', 'or', 'media', 'defin', 'method', 'get', 'post', 'statu', 'code', 'header', 'metainform', 'session', 'work', 'over', 'tcp', 'mean', 'one', 'http', 'messag', 'can', 'bigger', 'ip', 'frame', 'tool', 'telnet', 'curl', 'wget', 'postman', 'uri', 'url', 'url', 'standard', 'way', 'defin', 'togeth', 'where', 'document', 'domain', 'port', 'path', 'b', 'how', 'access', 'document', 'protocol', 'credenti']\n",
      "['befor', 'we', 'continu', 'secur', 'http', 'support', 'basic', 'digest', 'authent', 'user', 'box', 'defin', 'standard', 'mostli', 'use', 'interact', 'data', 'still', 'plaintext', 'oauth', 'new', 'way', 'grant', 'access', 'servic', 'access', 'applic', 'behalf', 'user', 'user', 'pass', 'authent', 'servic', 'auth', 'servic', 'issu', 'token', 'app', 'act', 'behalf', 'user', 'applic', 'use', 'token', 'interact', 'servic', 'data', 'still', 'plaintext', 'use', 'establish', 'secur', 'channel', 'over', 'tcp', 'use', 'asymmetr', 'key', 'build', 'encrypt', 'commun', 'session', 'save', 'overhead', 'certif', 'use', 'contain', 'key', 'valid', 'tool', 'http', 'over', 'ssl', 'http']\n",
      "['html', 'dom']\n",
      "['languag', 'typolog', 'sgml', 'meta', 'languag', 'descript', 'markup', 'languag', 'defin', 'allow', 'symbol', 'alphabet', 'sgml', 'declar', 'dtd', 'data', 'type', 'definit', 'markup', 'syntax', 'semant', 'xml', 'simplifi', 'subset', 'sgml', 'xml', 'schema', 'languag', 'dtd', 'xsd', 'html', 'applic', 'sgml', 'initi', 'xhtml', 'applic', 'xmlязыки', 'описания', 'синтаксиса', 'semant', 'в', 'смысле', 'соотношения', 'ограничения', 'и', 'html', 'это', 'про', 'xml', 'это', 'про', 'метаинформация', 'в', 'проектов', 'rss', 'atom', 'pocast', 'schema', 'soap']\n",
      "['schema', 'languag', 'dtd', 'xml', 'schema', 'defin', 'document', 'structur', 'node', 'constraint', 'use', 'defin', 'semant', 'rule', 'valu', 'number', 'document', 'document', 'can', 'meet', 'all', 'dtd', 'constraint', 'meet', 'all', 'tag', 'constraintsбольшинство', 'для', 'html', 'критично', 'быть', 'отображение']\n",
      "['rss', 'rich', 'site', 'summaryrss', 'r', 'ich', 's', 'ite', 's', 'ummari']\n",
      "['dtd', 'exampleэлемент', 'содержит', 'любое', 'число', 'элементов', 'person', 'элемент', 'person', 'содержит', 'элементы', 'name', 'birthdat', 'gender', 'и', 'socialsecuritynumb', 'необязателен', 'элемент', 'name', 'содержит', 'данные', 'элемент', 'birthdat', 'содержит', 'данные', 'элемент', 'gender', 'содержит', 'данные', 'элемент', 'socialsecuritynumb', 'содержит', 'данные']\n",
      "['xml', 'schema', 'xsd', 'exampleчем', 'хороши', 'схемы', 'по', 'ним', 'и', 'в', 'дотнете', 'и', 'в', 'джаве', 'можно', 'генерировать', 'модель', 'классов', 'xml', 'неплохой', 'иерархический', 'хранитель', 'вообще', 'есть', 'война', 'форматов', 'ms', 'за', 'xml', 'appl', 'за', 'json']\n",
      "['pars', 'method', 'sax', 'simpl', 'api', 'xml', 'rais', 'when', 'new', 'element', 'token', 'appear', 'consid', 'document', 'stream', 'token', 'error', 'work', 'either', 'push', 'or', 'cursor', 'pull', 'stax', 'requir', 'constant', 'memori', 'good', 'embed', 'system', 'doe', 'not', 'know', 'anyth', 'about', 'document', 's', 'model', 'dom', 'document', 'object', 'model', 'dom', 'tree', 'creat', 'full', 'document', 'model', 'use', 'browser', 'unpredict', 'memori', 'usag', 'use', 'dtd', 'queri', 'languag', 'xpath', 'xqueri', 'dom', 'поверх', 'sax', 'ml', 'это', 'деревья', 'в', 'нотации', 'поэтому', 'бомба', 'это', 'способ', 'создания', 'циклов', 'на', 'этом', 'дереве', 'циклы', 'создаются', 'рекурсией', 'поддерживаемой', 'в', 'dtd', 'способ', 'рекурсивного', 'объявления', 'элементов', 'через', 'dtd', 'его', 'можно', 'инклудить', 'концептуальный', 'вопрос', 'инклуда', 'dtd', 'в', 'документ']\n",
      "['browser', 'engin', 'layout', 'engin', 'js', 'good', 'articl', 'about', 'browser', 'architectur', 'browser', 'layout', 'engin', 'html', 'css', 'trident', 'ie', 'edg', 'spartan', 'chromium', 'gecko', 'mozilla', 'webkit', 'safari', 'webcor', 'blink', 'chrome', 'opera', 'chrome', 'android', 'other', 'khtml', 'presto', 'что', 'делают', 'собсна', 'как', 'работают', 'изнутри', 'различия', 'между', 'движком', 'и', 'самими', 'браузером', 'что', 'браузер', 'это', 'ещё', 'и', 'js', 'например', 'webkit', 'это', 'webcor', 'javascriptcor', 'главное', 'этапы', 'отрисовки', 'со', 'схемы', 'идут', 'последовательно', 'но', 'может', 'быть', 'с', 'наложением', 'по', 'времени', 'нежелания', 'ждать', 'дерево', 'отображения', 'порядок', 'расположения', 'прямоугольников', 'здесь', 'уже', 'работают', 'стили', 'подгруженные', 'или', 'по', 'умолчанию', 'большая', 'часть', 'кода', 'синтаксического', 'анализатора', 'служит', 'для', 'исправления', 'ошибок', 'разработчиков']\n",
      "['html', 'document', 'structureлюбой', 'объект', 'это', 'дерево', 'поэтому', 'документ', 'можно', 'представить', 'как', 'дерево', 'разбора', 'goto', 'рассказать', 'про', 'dom', 'можно', 'манипулировать', 'после', 'создания', 'про', 'прогрессивную', 'загрузку', 'что', 'элементы', 'прогружаются', 'и', 'исполняются', 'по', 'мере']\n",
      "['html', 'tag', 'tag', 'tag', 'name', 'html', 'schema', 'mandatori', 'td', 'td', 'close', 'tag', 'mandatori', 'div', 'img', 'attribut', 'defin', 'semant', 'div', 'id', 'style', 'class', 'mydiv', 'can', 'have', 'inner', 'tag', 'or', 'inner', 'content', 'text', 'script', 'text', 'div', 'span', 'input', 'layout', 'tag', 'defin', 'style', 'attribut', 'css', 'specif', 'кавычки', 'не', 'важны', 'вложенность', 'кавычек', 'переносы', 'взаимное', 'расположение', 'тэгов', 'не', 'влияют', 'код', 'тоже', 'пробелы', 'в', 'тексте', 'если', 'не', 'pre', 'минификаторы']\n",
      "['style', 'div', 'style', 'border', 'solid', 'gray', 'color', 'red', 'style', 'insid', 'document', 'head', 'style', 'style', 'separ', 'css', 'file', 'link', 'stylesheet', 'важно', 'в', 'стилях', 'сейчас', 'живут', 'ссылки', 'на', 'картинки', 'как', 'способ', 'обхода', 'краулеров', 'insta', 'some', 'time', 'ago', 'стиль', 'определяет', 'всё', 'цвета', 'шрифты', 'прозрачность', 'положение', 'отступы', 'поворот', 'и', 'раньше', 'была', 'возможность', 'влиять', 'через', 'тэги', 'и', 'атрибуты', 'но', 'это', 'неправильно', 'из', 'идеологических', 'положений', 'про', 'пути', 'относительные', 'и', 'полные', 'аналог', 'unix']\n",
      "['style', 'syntax', 'some', 'css', 'some', 'css', 'показать', 'пример', 'со', 'стилями', 'css', 'selector', 'выделить', 'область', 'применения']\n",
      "['browser', 'fingerprint', 'visit', 'site']\n",
      "['fingerprintj', 'accuraci', 'new', 'date', 'featur', 'support', 'donottrack', 'flag', 'ыыыы', 'cpuclass', 'platform', 'instal', 'extens', 'canva', 'fingerprint', 'draw', 'canva', 'todataurl', 'font', 'depend', 'platform', 'webgl', 'fingerprint', 'io', 'instal', 'font']\n",
      "['crawl', 'problem', 'solut']\n",
      "['problem', 'saa', 'vs', 'document', 'your', 'machin', 'run', 'wget', 'http', 'cat', 'sed', 'grep', 'quadtre', 'search', 'what', 's', 'wrong']\n",
      "[]\n",
      "['how', 'you', 'need', 'browser', 'engin', 'js', 'headless', 'browser', 'driver', 'manag', 'browser', 'autom', 'softwar', 'selenium', 'puppet']\n",
      "['problem', 'but', 'softwar', 'engin', 'how', 'would', 'you', 'pars', 'all', 'link', 'wikipedia', 'articl', 'page', 'import', 'request', 'import', 'beautifulsoup', 'stop', 'here', 'everi', 'big', 'compani', 'know', 'you', 'pars', 's', 'data', 'want', 'minim', 'harm', 'you', 'can', 'do', 'api', 'free', 'anonym', 'free', 'authent', 'paid', 'wikipedia', 'api', 'vk', 'api', 'yandex', 'search', 'api', 'googl', 'open', 'search', 'api']\n",
      "['problem', 'i', 'wa', 'download', 'but', 'stop', 'work', 'compani', 'consid', 'data', 'servic', 'ha', 'properti', 'b', 'competit', 'advantag', 'thu', 'compani', 'protect', 'data', 'grab', 'servic', 'proxi', 'api', 'regul', 'ya', 'what', 'allow', 'rate', 'etiquett', 'wiki', 'access', 'key', 'control', 'grab', 'proxi', 'speed', 'special', 'legal', 'statement', 'prohibit', 'grab', 'aso', 'enforc', 'you', 'obey', 'access', 'key', 'restrict', 'ip', 'rang', 'block', 'browser', 'fingerprint', 'block', 'so', 'speed', 'or', 'just', 'enabl', 'you', 'crawl']\n",
      "['problem', 'last', 'but', 'not', 'least', 'allow', 'disallow', 'prohibit', 'http', 'http', 'wiki', 'sorri', 'wget', 'recurs', 'mode', 'frequent', 'problem', 'pleas', 'read', 'man', 'page', 'use', 'properli', 'there', 'wait', 'option', 'you', 'can', 'use', 'set', 'delay', 'between', 'hit', 'instanc', 'wget', 'disallow', 'also', 'sitemap', 'http', 'help', 'http', 'http', 'etiquett', 'use', 'pipe', 'charact', 'whenev', 'possibl', 'instead', 'make', 'new', 'request', 'each', 'titl', 'use', 'gener', 'instead', 'make', 'request', 'each', 'result', 'anoth', 'request']\n",
      "['crawl', 'safe']\n"
     ]
    }
   ],
   "source": [
    "# preprocess\n",
    "for i in all_text_copy:\n",
    "    for z in all_text_copy[i]:\n",
    "        all_text_copy [i][z] = prep.preprocess(all_text_copy [i][z])\n",
    "        print (all_text_copy [i][z])"
   ]
  },
  {
   "cell_type": "code",
   "execution_count": 337,
   "metadata": {},
   "outputs": [],
   "source": [
    "#build index\n",
    "index = dict()\n",
    "for i in all_text_copy:\n",
    "    for z in all_text_copy[i]:\n",
    "        this_set = set(all_text_copy[i][z])\n",
    "        for f in this_set:\n",
    "            if f in index:\n",
    "                index[f].append( \"%d_%d\" %(i, z))\n",
    "            else:\n",
    "                index.update({f:list( \"%d_%d\" %(i, z))})\n",
    "                \n",
    "                \n"
   ]
  },
  {
   "cell_type": "markdown",
   "metadata": {},
   "source": [
    "### 2.3 Tests"
   ]
  },
  {
   "cell_type": "code",
   "execution_count": 338,
   "metadata": {
    "scrolled": true
   },
   "outputs": [
    {
     "name": "stdout",
     "output_type": "stream",
     "text": [
      "Results for:  ['architectur']\n",
      "\t {'1', '_', '4', '3'}\n",
      "Results for:  ['algorithm']\n",
      "\t {'1', '_', '2', '3'}\n",
      "Results for:  ['function']\n",
      "\t {'_', '2', '3', '9'}\n",
      "Results for:  ['dataset']\n",
      "\t {'_', '2', '8'}\n",
      "Results for:  ['protasov']\n",
      "\t {'0', '_', '2', '3'}\n",
      "Results for:  ['cosin']\n",
      "\t {'1', '_', '2', '5'}\n",
      "Results for:  ['модель']\n",
      "\t {'1', '_', '3', '5'}\n",
      "Results for:  ['например']\n",
      "\t {'_', '3'}\n"
     ]
    }
   ],
   "source": [
    "queries = [\"architecture\", \"algorithm\", \"function\", \"dataset\", \n",
    "           \"Protasov\", \"cosine\", \"модель\", \"например\"]\n",
    "\n",
    "for query in queries:\n",
    "    query = prep.preprocess(query)\n",
    "    r = find(query[0], index)\n",
    "    print(\"Results for: \", query)\n",
    "    print(\"\\t\", r)\n",
    "    assert len(r) > 0, \"Query should return at least 1 document\"\n",
    "    assert len(r) > 1, \"Query should return at least 2 documents\""
   ]
  },
  {
   "cell_type": "markdown",
   "metadata": {},
   "source": [
    "### 2.4 Images saved\n",
    "Save all images used in a presentation as separate files."
   ]
  },
  {
   "cell_type": "code",
   "execution_count": 223,
   "metadata": {},
   "outputs": [],
   "source": [
    "import urllib.request\n",
    "count = 0\n",
    "#TODO: load and save all images from slides on disk (from one | all presentations, both are fine)\n",
    "for image in all_imgs:\n",
    "  urllib.request.urlretrieve(image, \"local-filename%d.jpg\" %(count))\n",
    "  count+=1"
   ]
  },
  {
   "cell_type": "markdown",
   "metadata": {},
   "source": [
    "## 3. Bonus task.  Links exploration\n",
    "\n",
    "Find all external links in these presentations and index them for search too. I.e., parse them and extend inverted index you built with external links content: when searching by word we should get not only slides that contain it, but also any links that were mentioned in slides and contain this query word. "
   ]
  },
  {
   "cell_type": "code",
   "execution_count": null,
   "metadata": {
    "collapsed": true
   },
   "outputs": [],
   "source": [
    "#TODO: bonus task"
   ]
  }
 ],
 "metadata": {
  "kernelspec": {
   "display_name": "Python 3",
   "language": "python",
   "name": "python3"
  },
  "language_info": {
   "codemirror_mode": {
    "name": "ipython",
    "version": 3
   },
   "file_extension": ".py",
   "mimetype": "text/x-python",
   "name": "python",
   "nbconvert_exporter": "python",
   "pygments_lexer": "ipython3",
   "version": "3.7.3"
  }
 },
 "nbformat": 4,
 "nbformat_minor": 4
}
